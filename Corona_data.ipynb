{
 "cells": [
  {
   "cell_type": "markdown",
   "metadata": {},
   "source": [
    "### pandas"
   ]
  },
  {
   "cell_type": "markdown",
   "metadata": {},
   "source": [
    "## 按照时间下载github上面的数据~"
   ]
  },
  {
   "cell_type": "code",
   "execution_count": 1,
   "metadata": {},
   "outputs": [],
   "source": [
    "import pandas\n",
    "import time\n",
    "import matplotlib.pyplot as plt"
   ]
  },
  {
   "cell_type": "code",
   "execution_count": 2,
   "metadata": {},
   "outputs": [],
   "source": [
    "current_year = time.strftime(\"-%Y\", time.localtime())#获取年\n",
    "current_month = time.strftime(\"%m-\", time.localtime())#获取月\n",
    "current_day = time.strftime(\"%d\", time.localtime())#获取日"
   ]
  },
  {
   "cell_type": "code",
   "execution_count": 3,
   "metadata": {},
   "outputs": [],
   "source": [
    "yesterday = str(int(current_day)-1)#convert different formate"
   ]
  },
  {
   "cell_type": "code",
   "execution_count": 4,
   "metadata": {},
   "outputs": [
    {
     "data": {
      "text/plain": [
       "'03-29-2020'"
      ]
     },
     "execution_count": 4,
     "metadata": {},
     "output_type": "execute_result"
    }
   ],
   "source": [
    "date = current_month + yesterday + current_year #打印昨日日期\n",
    "date#   mm-dd-yyyy"
   ]
  },
  {
   "cell_type": "code",
   "execution_count": 5,
   "metadata": {},
   "outputs": [],
   "source": [
    "# current_year = time.strftime(\"-%Y\", time.localtime())#-2020\n",
    "# current_month = time.strftime(\"%m-\", time.localtime())#03-\n",
    "# current_day = time.strftime(\"%d\", time.localtime())\n",
    "# path_to_dataset = 'https://raw.githubusercontent.com/CSSEGISandData/COVID-19/master/csse_covid_19_data/csse_covid_19_daily_reports/' + date + '.csv'\n",
    "# df1 = pandas.read_csv(path_to_dataset, sep=',')"
   ]
  },
  {
   "cell_type": "code",
   "execution_count": 6,
   "metadata": {},
   "outputs": [],
   "source": [
    "\n",
    "#重新加载一遍日期\n",
    "current_year = time.strftime(\"-%Y\", time.localtime())\n",
    "current_month = time.strftime(\"%m-\", time.localtime())\n",
    "current_day = time.strftime(\"%d\", time.localtime())#设置时间\n",
    "current_day = int(current_day) - 1\n",
    "\n",
    "\n",
    "#将今10日的值赋给df1，df2....\n",
    "i = 1\n",
    "while i <=18 :\n",
    "    current_day = current_day - 1\n",
    "    date = current_month + str(current_day) + current_year #打印昨日日期\n",
    "    path_to_dataset = 'https://raw.githubusercontent.com/CSSEGISandData/COVID-19/master/csse_covid_19_data/csse_covid_19_daily_reports/' + date + '.csv'\n",
    "    name='df'+str(i)\n",
    "    locals()['df'+str(i)]= pandas.read_csv(path_to_dataset, sep=',')#动态命名 df1,df2,...df10，将data一一赋值\n",
    "    i = i + 1"
   ]
  },
  {
   "cell_type": "markdown",
   "metadata": {},
   "source": [
    "## 筛选出所有为‘Australia’的国家的信息~"
   ]
  },
  {
   "cell_type": "code",
   "execution_count": 7,
   "metadata": {},
   "outputs": [
    {
     "data": {
      "text/html": [
       "<div>\n",
       "<style scoped>\n",
       "    .dataframe tbody tr th:only-of-type {\n",
       "        vertical-align: middle;\n",
       "    }\n",
       "\n",
       "    .dataframe tbody tr th {\n",
       "        vertical-align: top;\n",
       "    }\n",
       "\n",
       "    .dataframe thead th {\n",
       "        text-align: right;\n",
       "    }\n",
       "</style>\n",
       "<table border=\"1\" class=\"dataframe\">\n",
       "  <thead>\n",
       "    <tr style=\"text-align: right;\">\n",
       "      <th></th>\n",
       "      <th>FIPS</th>\n",
       "      <th>Admin2</th>\n",
       "      <th>Province_State</th>\n",
       "      <th>Country_Region</th>\n",
       "      <th>Last_Update</th>\n",
       "      <th>Lat</th>\n",
       "      <th>Long_</th>\n",
       "      <th>Confirmed</th>\n",
       "      <th>Deaths</th>\n",
       "      <th>Recovered</th>\n",
       "      <th>Active</th>\n",
       "      <th>Combined_Key</th>\n",
       "    </tr>\n",
       "  </thead>\n",
       "  <tbody>\n",
       "    <tr>\n",
       "      <th>0</th>\n",
       "      <td>45001.0</td>\n",
       "      <td>Abbeville</td>\n",
       "      <td>South Carolina</td>\n",
       "      <td>US</td>\n",
       "      <td>2020-03-28 23:05:37</td>\n",
       "      <td>34.223334</td>\n",
       "      <td>-82.461707</td>\n",
       "      <td>3</td>\n",
       "      <td>0</td>\n",
       "      <td>0</td>\n",
       "      <td>0</td>\n",
       "      <td>Abbeville, South Carolina, US</td>\n",
       "    </tr>\n",
       "    <tr>\n",
       "      <th>1</th>\n",
       "      <td>22001.0</td>\n",
       "      <td>Acadia</td>\n",
       "      <td>Louisiana</td>\n",
       "      <td>US</td>\n",
       "      <td>2020-03-28 23:05:37</td>\n",
       "      <td>30.295065</td>\n",
       "      <td>-92.414197</td>\n",
       "      <td>9</td>\n",
       "      <td>1</td>\n",
       "      <td>0</td>\n",
       "      <td>0</td>\n",
       "      <td>Acadia, Louisiana, US</td>\n",
       "    </tr>\n",
       "    <tr>\n",
       "      <th>2</th>\n",
       "      <td>51001.0</td>\n",
       "      <td>Accomack</td>\n",
       "      <td>Virginia</td>\n",
       "      <td>US</td>\n",
       "      <td>2020-03-28 23:05:37</td>\n",
       "      <td>37.767072</td>\n",
       "      <td>-75.632346</td>\n",
       "      <td>2</td>\n",
       "      <td>0</td>\n",
       "      <td>0</td>\n",
       "      <td>0</td>\n",
       "      <td>Accomack, Virginia, US</td>\n",
       "    </tr>\n",
       "    <tr>\n",
       "      <th>3</th>\n",
       "      <td>16001.0</td>\n",
       "      <td>Ada</td>\n",
       "      <td>Idaho</td>\n",
       "      <td>US</td>\n",
       "      <td>2020-03-28 23:05:37</td>\n",
       "      <td>43.452658</td>\n",
       "      <td>-116.241552</td>\n",
       "      <td>76</td>\n",
       "      <td>0</td>\n",
       "      <td>0</td>\n",
       "      <td>0</td>\n",
       "      <td>Ada, Idaho, US</td>\n",
       "    </tr>\n",
       "    <tr>\n",
       "      <th>4</th>\n",
       "      <td>19001.0</td>\n",
       "      <td>Adair</td>\n",
       "      <td>Iowa</td>\n",
       "      <td>US</td>\n",
       "      <td>2020-03-28 23:05:37</td>\n",
       "      <td>41.330756</td>\n",
       "      <td>-94.471059</td>\n",
       "      <td>1</td>\n",
       "      <td>0</td>\n",
       "      <td>0</td>\n",
       "      <td>0</td>\n",
       "      <td>Adair, Iowa, US</td>\n",
       "    </tr>\n",
       "  </tbody>\n",
       "</table>\n",
       "</div>"
      ],
      "text/plain": [
       "      FIPS     Admin2  Province_State Country_Region          Last_Update  \\\n",
       "0  45001.0  Abbeville  South Carolina             US  2020-03-28 23:05:37   \n",
       "1  22001.0     Acadia       Louisiana             US  2020-03-28 23:05:37   \n",
       "2  51001.0   Accomack        Virginia             US  2020-03-28 23:05:37   \n",
       "3  16001.0        Ada           Idaho             US  2020-03-28 23:05:37   \n",
       "4  19001.0      Adair            Iowa             US  2020-03-28 23:05:37   \n",
       "\n",
       "         Lat       Long_  Confirmed  Deaths  Recovered  Active  \\\n",
       "0  34.223334  -82.461707          3       0          0       0   \n",
       "1  30.295065  -92.414197          9       1          0       0   \n",
       "2  37.767072  -75.632346          2       0          0       0   \n",
       "3  43.452658 -116.241552         76       0          0       0   \n",
       "4  41.330756  -94.471059          1       0          0       0   \n",
       "\n",
       "                    Combined_Key  \n",
       "0  Abbeville, South Carolina, US  \n",
       "1          Acadia, Louisiana, US  \n",
       "2         Accomack, Virginia, US  \n",
       "3                 Ada, Idaho, US  \n",
       "4                Adair, Iowa, US  "
      ]
     },
     "execution_count": 7,
     "metadata": {},
     "output_type": "execute_result"
    }
   ],
   "source": [
    "df1.head()#df1到df18，共18天的数据"
   ]
  },
  {
   "cell_type": "code",
   "execution_count": 8,
   "metadata": {
    "scrolled": false
   },
   "outputs": [],
   "source": [
    "# row_name = ['Australia']\n",
    "# au = df1[df1['Country_Region'].isin(row_name)]\n",
    "# au.loc[:,['Province_State','Confirmed']]\n",
    "i = 1\n",
    "list_confirmed = []#获取list表示近十天的感染人数\n",
    "list_deaths = []\n",
    "list_recovered = []\n",
    "while i <=7:\n",
    "    row_name = ['Australia']\n",
    "    locals()['au'+str(i)] = locals()['df'+str(i)][locals()['df'+str(i)]['Country_Region'].isin(row_name)]    #get day 1~6 data\n",
    "    au = locals()['au'+str(i)]\n",
    "    confirmed_cases = au.Confirmed.sum()\n",
    "    Deaths_cases = au.Deaths.sum()\n",
    "    Recovered_cases = au.Recovered.sum()\n",
    "    list_confirmed.append(confirmed_cases)#获取list表示近十天的感染人数\n",
    "    list_deaths.append(Deaths_cases)\n",
    "    list_recovered.append(Recovered_cases)\n",
    "    i = i + 1\n",
    "\n",
    "    \n",
    "i = 8\n",
    "while i <=18:\n",
    "    row_name = ['Australia']\n",
    "    locals()['au'+str(i)] = locals()['df'+str(i)][locals()['df'+str(i)]['Country/Region'].isin(row_name)]    # get day 7~10 data\n",
    "    au = locals()['au'+str(i)]\n",
    "    confirmed_cases = au.Confirmed.sum()#将所有Confirmed列中的数据叠加起来\n",
    "    list_confirmed.append(confirmed_cases)#获取list表示近十天的感染人数\n",
    "    list_deaths.append(Deaths_cases)\n",
    "    list_recovered.append(Recovered_cases)\n",
    "    i = i + 1"
   ]
  },
  {
   "cell_type": "code",
   "execution_count": 9,
   "metadata": {
    "scrolled": true
   },
   "outputs": [],
   "source": [
    "i = 0\n",
    "states_au = []\n",
    "cases = []\n",
    "while i <= 7 :\n",
    "    x = au1.iat[i,2]#获取第i行第11列的值（states的地方）\n",
    "    y = au1.iat[i,7]\n",
    "    states_au.append(x)\n",
    "    cases.append(y)\n",
    "    i = i + 1"
   ]
  },
  {
   "cell_type": "code",
   "execution_count": 10,
   "metadata": {
    "scrolled": true
   },
   "outputs": [
    {
     "data": {
      "text/html": [
       "<div>\n",
       "<style scoped>\n",
       "    .dataframe tbody tr th:only-of-type {\n",
       "        vertical-align: middle;\n",
       "    }\n",
       "\n",
       "    .dataframe tbody tr th {\n",
       "        vertical-align: top;\n",
       "    }\n",
       "\n",
       "    .dataframe thead th {\n",
       "        text-align: right;\n",
       "    }\n",
       "</style>\n",
       "<table border=\"1\" class=\"dataframe\">\n",
       "  <thead>\n",
       "    <tr style=\"text-align: right;\">\n",
       "      <th></th>\n",
       "      <th>cases</th>\n",
       "      <th>index</th>\n",
       "    </tr>\n",
       "  </thead>\n",
       "  <tbody>\n",
       "    <tr>\n",
       "      <th>0</th>\n",
       "      <td>71</td>\n",
       "      <td>Australian Capital Territory</td>\n",
       "    </tr>\n",
       "    <tr>\n",
       "      <th>1</th>\n",
       "      <td>1617</td>\n",
       "      <td>New South Wales</td>\n",
       "    </tr>\n",
       "    <tr>\n",
       "      <th>2</th>\n",
       "      <td>15</td>\n",
       "      <td>Northern Territory</td>\n",
       "    </tr>\n",
       "    <tr>\n",
       "      <th>3</th>\n",
       "      <td>625</td>\n",
       "      <td>Queensland</td>\n",
       "    </tr>\n",
       "    <tr>\n",
       "      <th>4</th>\n",
       "      <td>287</td>\n",
       "      <td>South Australia</td>\n",
       "    </tr>\n",
       "    <tr>\n",
       "      <th>5</th>\n",
       "      <td>62</td>\n",
       "      <td>Tasmania</td>\n",
       "    </tr>\n",
       "    <tr>\n",
       "      <th>6</th>\n",
       "      <td>685</td>\n",
       "      <td>Victoria</td>\n",
       "    </tr>\n",
       "    <tr>\n",
       "      <th>7</th>\n",
       "      <td>278</td>\n",
       "      <td>Western Australia</td>\n",
       "    </tr>\n",
       "  </tbody>\n",
       "</table>\n",
       "</div>"
      ],
      "text/plain": [
       "   cases                         index\n",
       "0     71  Australian Capital Territory\n",
       "1   1617               New South Wales\n",
       "2     15            Northern Territory\n",
       "3    625                    Queensland\n",
       "4    287               South Australia\n",
       "5     62                      Tasmania\n",
       "6    685                      Victoria\n",
       "7    278             Western Australia"
      ]
     },
     "execution_count": 10,
     "metadata": {},
     "output_type": "execute_result"
    }
   ],
   "source": [
    "states_au_cases = pandas.DataFrame({\n",
    "        'cases':cases,\n",
    "        'index' :states_au\n",
    "    })\n",
    "states_au_cases"
   ]
  },
  {
   "cell_type": "code",
   "execution_count": 11,
   "metadata": {},
   "outputs": [
    {
     "data": {
      "image/png": "[encoded data removed]",
      "text/plain": [
       "<Figure size 432x288 with 1 Axes>"
      ]
     },
     "metadata": {},
     "output_type": "display_data"
    }
   ],
   "source": [
    "# states_au_cases.plot.pie(y = 'cases',figsize=(10, 10))\n",
    "# labels = 'Frogs', 'Hogs', 'Dogs', 'Logs'\n",
    "# sizes = [15, 30, 45, 10]\n",
    "explode = (0, 0.1, 0, 0, 0, 0, 0, 0)  # only \"explode\" the 2nd slice (i.e. 'Hogs')\n",
    "\n",
    "fig1, ax1 = plt.subplots()\n",
    "ax1.pie(cases, explode=explode, labels=states_au, autopct='%1.1f%%',\n",
    "        shadow=True, startangle=200)\n",
    "ax1.axis('equal')  # Equal aspect ratio ensures that pie is drawn as a circle.\n",
    "ax1\n",
    "plt.show()"
   ]
  },
  {
   "cell_type": "code",
   "execution_count": 12,
   "metadata": {
    "scrolled": true
   },
   "outputs": [],
   "source": [
    "list_confirmed.reverse()#获取list表示近十天的感染人数\n",
    "list_deaths.reverse()\n",
    "list_recovered.reverse()"
   ]
  },
  {
   "cell_type": "code",
   "execution_count": 13,
   "metadata": {},
   "outputs": [],
   "source": [
    "yesterday = int(yesterday)\n",
    "australia_cases = pandas.DataFrame({\n",
    "    'confirmed_cases': list_confirmed,\n",
    "    'deaths_cases': list_deaths,\n",
    "    'recovered_cases': list_recovered,\n",
    "    'date': [str(yesterday-17),str(yesterday-16),str(yesterday-15),str(yesterday-14),str(yesterday-13),str(yesterday-12),str(yesterday-11), str(yesterday-10),str(yesterday-9),str(yesterday-8),str(yesterday-7),str(yesterday-6),str(yesterday-5),str(yesterday-4),str(yesterday-3),str(yesterday-2),str(yesterday-1), str(yesterday)]\n",
    "})"
   ]
  },
  {
   "cell_type": "code",
   "execution_count": 14,
   "metadata": {
    "scrolled": false
   },
   "outputs": [
    {
     "data": {
      "text/plain": [
       "Text(0.5, 1.0, 'Australia confirmed cases')"
      ]
     },
     "execution_count": 14,
     "metadata": {},
     "output_type": "execute_result"
    },
    {
     "data": {
      "image/png": "[encoded data removed]",
      "text/plain": [
       "<Figure size 432x288 with 1 Axes>"
      ]
     },
     "metadata": {
      "needs_background": "light"
     },
     "output_type": "display_data"
    }
   ],
   "source": [
    "plt.plot(australia_cases[\"date\"], australia_cases[\"confirmed_cases\"])\n",
    "plt.xlabel('day')\n",
    "plt.ylabel('confirmed cased')\n",
    "plt.title('Australia confirmed cases')"
   ]
  },
  {
   "cell_type": "code",
   "execution_count": 15,
   "metadata": {
    "scrolled": false
   },
   "outputs": [
    {
     "data": {
      "image/png": "[encoded data removed]",
      "text/plain": [
       "<Figure size 432x288 with 1 Axes>"
      ]
     },
     "metadata": {
      "needs_background": "light"
     },
     "output_type": "display_data"
    }
   ],
   "source": [
    "plt.bar(australia_cases['date'], australia_cases['confirmed_cases'])\n",
    "plt.show()#列出柱状图"
   ]
  },
  {
   "cell_type": "code",
   "execution_count": 16,
   "metadata": {
    "scrolled": false
   },
   "outputs": [
    {
     "data": {
      "image/png": "[encoded data removed]",
      "text/plain": [
       "<Figure size 432x288 with 1 Axes>"
      ]
     },
     "metadata": {
      "needs_background": "light"
     },
     "output_type": "display_data"
    }
   ],
   "source": [
    "plt.plot(australia_cases[\"date\"], australia_cases[\"confirmed_cases\"], label=\"confirmed_cases\")#第一个label\n",
    "plt.plot(australia_cases[\"date\"], australia_cases[\"deaths_cases\"], label=\"death_cases\")#第一个label\n",
    "plt.plot(australia_cases[\"date\"], australia_cases[\"recovered_cases\"], label=\"recovered_cases\")#第一个label\n",
    "plt.legend(loc='upper left')#图列位置，可选best，center等\n",
    "plt.xlabel('day')\n",
    "plt.ylabel('confirmed cased')\n",
    "plt.title('australia different cases')\n",
    "plt.show()"
   ]
  },
  {
   "cell_type": "markdown",
   "metadata": {},
   "source": [
    "## Us cases"
   ]
  },
  {
   "cell_type": "code",
   "execution_count": 17,
   "metadata": {},
   "outputs": [],
   "source": [
    "# row_name = ['Australia']\n",
    "# au = df1[df1['Country_Region'].isin(row_name)]\n",
    "# au.loc[:,['Province_State','Confirmed']]\n",
    "i = 1\n",
    "list_us=[]\n",
    "while i <=7:\n",
    "    row_name = ['US']\n",
    "    locals()['us'+str(i)] = locals()['df'+str(i)][locals()['df'+str(i)]['Country_Region'].isin(row_name)]    #get day 1~6 data\n",
    "    us = locals()['us'+str(i)]\n",
    "    confirmed_cases = us.Confirmed.sum()\n",
    "    list_us.append(confirmed_cases)#获取list表示近十天的感染人数\n",
    "    i = i + 1"
   ]
  },
  {
   "cell_type": "code",
   "execution_count": 18,
   "metadata": {},
   "outputs": [],
   "source": [
    "i = 8\n",
    "while i <=18:\n",
    "    row_name = ['US']\n",
    "    locals()['us'+str(i)] = locals()['df'+str(i)][locals()['df'+str(i)]['Country/Region'].isin(row_name)]    # get day 7~10 data\n",
    "    us = locals()['us'+str(i)]\n",
    "    confirmed_cases =us.Confirmed.sum()#将所有Confirmed列中的数据叠加起来\n",
    "    list_us.append(confirmed_cases)#获取list表示近十天的感染人数\n",
    "    i = i + 1"
   ]
  },
  {
   "cell_type": "code",
   "execution_count": 19,
   "metadata": {
    "scrolled": false
   },
   "outputs": [
    {
     "data": {
      "text/plain": [
       "[1281,\n",
       " 1663,\n",
       " 2179,\n",
       " 2726,\n",
       " 3499,\n",
       " 4632,\n",
       " 6421,\n",
       " 7786,\n",
       " 13680,\n",
       " 19101,\n",
       " 25493,\n",
       " 33746,\n",
       " 43667,\n",
       " 53740,\n",
       " 65778,\n",
       " 83836,\n",
       " 101657,\n",
       " 121478]"
      ]
     },
     "execution_count": 19,
     "metadata": {},
     "output_type": "execute_result"
    }
   ],
   "source": [
    "list_us.reverse()\n",
    "list_us"
   ]
  },
  {
   "cell_type": "code",
   "execution_count": 20,
   "metadata": {},
   "outputs": [],
   "source": [
    "yesterday = int(yesterday)\n",
    "us_cases = pandas.DataFrame({\n",
    "    'cases': list_us,\n",
    "\n",
    "    'date': [str(yesterday-17),str(yesterday-16),str(yesterday-15),str(yesterday-14),str(yesterday-13),str(yesterday-12),str(yesterday-11),str(yesterday-10),str(yesterday-9),str(yesterday-8),str(yesterday-7),str(yesterday-6),str(yesterday-5),str(yesterday-4),str(yesterday-3),str(yesterday-2),str(yesterday-1), str(yesterday)]\n",
    "})"
   ]
  },
  {
   "cell_type": "code",
   "execution_count": 21,
   "metadata": {},
   "outputs": [
    {
     "data": {
      "text/plain": [
       "Text(0.5, 1.0, 'US confirmed cases')"
      ]
     },
     "execution_count": 21,
     "metadata": {},
     "output_type": "execute_result"
    },
    {
     "data": {
      "image/png": "[encoded data removed]",
      "text/plain": [
       "<Figure size 432x288 with 1 Axes>"
      ]
     },
     "metadata": {
      "needs_background": "light"
     },
     "output_type": "display_data"
    }
   ],
   "source": [
    "import matplotlib.pyplot as plt\n",
    "plt.plot(us_cases[\"date\"], us_cases[\"cases\"])\n",
    "plt.xlabel('day')\n",
    "plt.ylabel('confirmed cased')\n",
    "plt.title('US confirmed cases')"
   ]
  },
  {
   "cell_type": "markdown",
   "metadata": {},
   "source": [
    "### below is self-learning, 以下是自学部分与项目无关"
   ]
  },
  {
   "cell_type": "markdown",
   "metadata": {},
   "source": [
    "## \".loc\" & \".iloc\" to slice the dataset"
   ]
  },
  {
   "cell_type": "code",
   "execution_count": null,
   "metadata": {},
   "outputs": [],
   "source": [
    "df.loc[5]#列出第几行，从0开始"
   ]
  },
  {
   "cell_type": "code",
   "execution_count": null,
   "metadata": {},
   "outputs": [],
   "source": [
    "df.tail(n = 1)#列出最后n个数列\n",
    "\n",
    "df.head(n = 2)#列出前n个数列D"
   ]
  },
  {
   "cell_type": "code",
   "execution_count": null,
   "metadata": {
    "scrolled": true
   },
   "outputs": [],
   "source": [
    "df.loc[0]#列出第一列的具体信息"
   ]
  },
  {
   "cell_type": "code",
   "execution_count": null,
   "metadata": {},
   "outputs": [],
   "source": [
    "df.iloc[-1]"
   ]
  },
  {
   "cell_type": "code",
   "execution_count": null,
   "metadata": {},
   "outputs": [],
   "source": [
    "   subsite = df.loc[54:100,['Country/Region','Confirmed','Deaths','Recovered','Last Update']]#列出第54——57行，列属性的信息"
   ]
  },
  {
   "cell_type": "code",
   "execution_count": null,
   "metadata": {},
   "outputs": [],
   "source": [
    "a = list(range(2,10,2)) #列出了2到10（不包括10）间隔为2的matrix\n",
    "a\n",
    "\n",
    "b=df.iloc[:,a] #列出a所表示的列的全部信息\n",
    "b.head()"
   ]
  },
  {
   "cell_type": "code",
   "execution_count": null,
   "metadata": {},
   "outputs": [],
   "source": [
    "b = df.iloc[43,a]\n",
    "b"
   ]
  },
  {
   "cell_type": "code",
   "execution_count": null,
   "metadata": {},
   "outputs": [],
   "source": [
    "print(\"df.head() is {} , df.loc[] is {}\\n and df.iloc[] is {}\".format(type(df.head(n = 1)),type(df.loc[0]),type(df.iloc[0])))"
   ]
  },
  {
   "cell_type": "code",
   "execution_count": null,
   "metadata": {
    "scrolled": true
   },
   "outputs": [],
   "source": [
    "#df.iloc[3428,[1,3,5]]\n",
    "#df.loc[3428:,['Admin2','Country_Region','Lat']]\n",
    "df.head()"
   ]
  },
  {
   "cell_type": "code",
   "execution_count": null,
   "metadata": {},
   "outputs": [],
   "source": [
    "df.groupby('FIPS')"
   ]
  },
  {
   "cell_type": "code",
   "execution_count": null,
   "metadata": {},
   "outputs": [],
   "source": [
    "df.shape[0]#一共多少行\n",
    "df.shape[1]#一共多少列"
   ]
  },
  {
   "cell_type": "code",
   "execution_count": null,
   "metadata": {},
   "outputs": [],
   "source": [
    "list(range(4))"
   ]
  },
  {
   "cell_type": "code",
   "execution_count": null,
   "metadata": {},
   "outputs": [],
   "source": [
    "x = df.groupby('Confirmed')['FIPS'].median()\n",
    "x.hist()#柱状图\n",
    "x.plot()#折现图"
   ]
  },
  {
   "cell_type": "code",
   "execution_count": null,
   "metadata": {},
   "outputs": [],
   "source": [
    "df.groupby('Country_Region')"
   ]
  },
  {
   "cell_type": "code",
   "execution_count": null,
   "metadata": {},
   "outputs": [],
   "source": [
    "y = pandas.DataFrame({\n",
    "\n",
    "    'Name': ['Rosaline Franklin', 'William Gosset','a'],\n",
    "\n",
    "    'Occupation': ['Chemist', 'Statistician','a'],\n",
    "\n",
    "    'Born': [1,2,3],\n",
    "\n",
    "    'Died': ['1958-04-16', '1937-10-16','wdwdw'],\n",
    "\n",
    "    'Age': [37, 61, 44]})\n",
    "\n",
    "z = y.groupby('Born')['Age'].mean()\n",
    "z.hist()"
   ]
  },
  {
   "cell_type": "code",
   "execution_count": null,
   "metadata": {
    "scrolled": false
   },
   "outputs": [],
   "source": [
    "con = df['Confirmed']\n",
    "[con > con.mean()]#返回bool型值\n",
    "con[con > con.mean()]#返回所有大于con.mean()的值"
   ]
  },
  {
   "cell_type": "markdown",
   "metadata": {},
   "source": [
    "### Seaborn & Matplotlib ~"
   ]
  },
  {
   "cell_type": "code",
   "execution_count": null,
   "metadata": {},
   "outputs": [],
   "source": [
    "import seaborn as sns\n",
    "anscombe = sns.load_dataset(\"anscombe\")\n",
    "anscombe #在seaborn库中引用数据集"
   ]
  },
  {
   "cell_type": "code",
   "execution_count": null,
   "metadata": {},
   "outputs": [],
   "source": [
    "import matplotlib.pyplot as plt"
   ]
  },
  {
   "cell_type": "code",
   "execution_count": null,
   "metadata": {},
   "outputs": [],
   "source": [
    "dataset_1 = anscombe[anscombe['dataset'] == 'I']\n",
    "dataset_2 = anscombe[anscombe['dataset'] == 'II']\n",
    "dataset_3 = anscombe[anscombe['dataset'] == 'III']\n",
    "dataset_4 = anscombe[anscombe['dataset'] == 'IV']#根据dataset分出不同的值"
   ]
  },
  {
   "cell_type": "code",
   "execution_count": null,
   "metadata": {},
   "outputs": [],
   "source": [
    "plt.plot(dataset_4['x'], dataset_4['y'])#打印出第四个dataset的值"
   ]
  },
  {
   "cell_type": "code",
   "execution_count": null,
   "metadata": {
    "scrolled": true
   },
   "outputs": [],
   "source": [
    "fig = plt.figure()\n",
    "axes1 = fig.add_subplot(2, 2, 1)\n",
    "axes2 = fig.add_subplot(2, 2, 2)\n",
    "axes3 = fig.add_subplot(2, 2, 3)\n",
    "axes4 = fig.add_subplot(2, 2, 4)"
   ]
  },
  {
   "cell_type": "code",
   "execution_count": null,
   "metadata": {},
   "outputs": [],
   "source": [
    "axes1.plot(dataset_1['x'], dataset_1['y'])\n",
    "axes2.plot(dataset_2['x'], dataset_2['y'] )\n",
    "axes3.plot(dataset_3['x'], dataset_3['y'] )\n",
    "axes4.plot(dataset_4['x'], dataset_4['y'])\n",
    "\n",
    "axes1.set_title(\"dataset_1\")\n",
    "axes2.set_title(\"dataset_2\")\n",
    "axes3.set_title(\"dataset_3\")\n",
    "axes4.set_title(\"dataset_4\")\n",
    "\n",
    "fig.suptitle(\"Anscombe Data\")\n",
    "\n",
    "fig.tight_layout()"
   ]
  },
  {
   "cell_type": "code",
   "execution_count": null,
   "metadata": {},
   "outputs": [],
   "source": [
    "fig"
   ]
  },
  {
   "cell_type": "code",
   "execution_count": null,
   "metadata": {},
   "outputs": [],
   "source": [
    "tips = sns.load_dataset(\"tips\")"
   ]
  },
  {
   "cell_type": "code",
   "execution_count": null,
   "metadata": {},
   "outputs": [],
   "source": [
    "tips.head()"
   ]
  },
  {
   "cell_type": "code",
   "execution_count": null,
   "metadata": {},
   "outputs": [],
   "source": [
    "fig = plt.figure()\n",
    "\n",
    "axes1 = fig.add_subplot(1, 1, 1)\n",
    "\n",
    "axes1.hist(tips['total_bill'], bins=10)\n",
    "\n",
    "axes1.set_title('Histogram of Total Bill')\n",
    "\n",
    "axes1.set_xlabel('Frequency')\n",
    "\n",
    "axes1.set_ylabel('Total Bill')\n"
   ]
  },
  {
   "cell_type": "code",
   "execution_count": null,
   "metadata": {},
   "outputs": [],
   "source": [
    "scatter_plot = plt.figure()\n",
    "\n",
    "axes1 = scatter_plot.add_subplot(1, 1, 1)\n",
    "\n",
    "axes1.scatter(tips['total_bill'], tips['tip'])\n",
    "\n",
    "axes1.set_title('Scatterplot of Total Bill vs Tip')\n",
    "\n",
    "axes1.set_xlabel('Total Bill')\n",
    "\n",
    "axes1.set_ylabel('Tip')"
   ]
  },
  {
   "cell_type": "code",
   "execution_count": null,
   "metadata": {},
   "outputs": [],
   "source": [
    "# create a color variable based on sex\n",
    "\n",
    "\n",
    "\n",
    "tips['sex_color'] = tips['sex'].apply(recode_sex)\n",
    "\n",
    "\n",
    "\n",
    "scatter_plot = plt.figure()\n",
    "\n",
    "axes1 = scatter_plot.add_subplot(1, 1, 1)\n",
    "\n",
    "axes1.scatter(\n",
    "\n",
    "    x=tips['total_bill'],\n",
    "\n",
    "    y=tips['tip'],\n",
    "\n",
    "\n",
    "\n",
    "    # set the size of the dots based on party size\n",
    "\n",
    "    # we multiply the values by 10 to make the points bigger\n",
    "\n",
    "    # and to emphasize the differences\n",
    "\n",
    "    s=tips['size'] * 10,\n",
    "\n",
    "\n",
    "\n",
    "    # set the color for the sex\n",
    "\n",
    "    c=tips['sex_color'],\n",
    "\n",
    "\n",
    "\n",
    "    # set the alpha value so points are more transparent\n",
    "\n",
    "    # this helps with overlapping points\n",
    "\n",
    "    alpha=0.5)\n",
    "\n",
    "\n",
    "\n",
    "axes1.set_title('Total Bill vs Tip Colored by Sex and Sized by Size')\n",
    "\n",
    "axes1.set_xlabel('Total Bill')\n",
    "\n",
    "axes1.set_ylabel('Tip')\n"
   ]
  },
  {
   "cell_type": "code",
   "execution_count": null,
   "metadata": {},
   "outputs": [],
   "source": [
    "checkpoint = [df.loc[:,['Country_Region']] != 'Australia']"
   ]
  },
  {
   "cell_type": "code",
   "execution_count": null,
   "metadata": {},
   "outputs": [],
   "source": []
  },
  {
   "cell_type": "code",
   "execution_count": null,
   "metadata": {},
   "outputs": [],
   "source": []
  }
 ],
 "metadata": {
  "kernelspec": {
   "display_name": "Python 3",
   "language": "python",
   "name": "python3"
  },
  "language_info": {
   "codemirror_mode": {
    "name": "ipython",
    "version": 3
   },
   "file_extension": ".py",
   "mimetype": "text/x-python",
   "name": "python",
   "nbconvert_exporter": "python",
   "pygments_lexer": "ipython3",
   "version": "3.7.4"
  }
 },
 "nbformat": 4,
 "nbformat_minor": 4
}
