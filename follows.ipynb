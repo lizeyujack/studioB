{
 "cells": [
  {
   "cell_type": "code",
   "execution_count": 1,
   "metadata": {
    "collapsed": true
   },
   "outputs": [
    {
     "name": "stderr",
     "output_type": "stream",
     "text": [
      "D:\\anaconda_files\\lib\\site-packages\\tensorflow\\python\\framework\\dtypes.py:516: FutureWarning: Passing (type, 1) or '1type' as a synonym of type is deprecated; in a future version of numpy, it will be understood as (type, (1,)) / '(1,)type'.\n",
      "  _np_qint8 = np.dtype([(\"qint8\", np.int8, 1)])\n",
      "D:\\anaconda_files\\lib\\site-packages\\tensorflow\\python\\framework\\dtypes.py:517: FutureWarning: Passing (type, 1) or '1type' as a synonym of type is deprecated; in a future version of numpy, it will be understood as (type, (1,)) / '(1,)type'.\n",
      "  _np_quint8 = np.dtype([(\"quint8\", np.uint8, 1)])\n",
      "D:\\anaconda_files\\lib\\site-packages\\tensorflow\\python\\framework\\dtypes.py:518: FutureWarning: Passing (type, 1) or '1type' as a synonym of type is deprecated; in a future version of numpy, it will be understood as (type, (1,)) / '(1,)type'.\n",
      "  _np_qint16 = np.dtype([(\"qint16\", np.int16, 1)])\n",
      "D:\\anaconda_files\\lib\\site-packages\\tensorflow\\python\\framework\\dtypes.py:519: FutureWarning: Passing (type, 1) or '1type' as a synonym of type is deprecated; in a future version of numpy, it will be understood as (type, (1,)) / '(1,)type'.\n",
      "  _np_quint16 = np.dtype([(\"quint16\", np.uint16, 1)])\n",
      "D:\\anaconda_files\\lib\\site-packages\\tensorflow\\python\\framework\\dtypes.py:520: FutureWarning: Passing (type, 1) or '1type' as a synonym of type is deprecated; in a future version of numpy, it will be understood as (type, (1,)) / '(1,)type'.\n",
      "  _np_qint32 = np.dtype([(\"qint32\", np.int32, 1)])\n",
      "D:\\anaconda_files\\lib\\site-packages\\tensorflow\\python\\framework\\dtypes.py:525: FutureWarning: Passing (type, 1) or '1type' as a synonym of type is deprecated; in a future version of numpy, it will be understood as (type, (1,)) / '(1,)type'.\n",
      "  np_resource = np.dtype([(\"resource\", np.ubyte, 1)])\n",
      "D:\\anaconda_files\\lib\\site-packages\\tensorboard\\compat\\tensorflow_stub\\dtypes.py:541: FutureWarning: Passing (type, 1) or '1type' as a synonym of type is deprecated; in a future version of numpy, it will be understood as (type, (1,)) / '(1,)type'.\n",
      "  _np_qint8 = np.dtype([(\"qint8\", np.int8, 1)])\n",
      "D:\\anaconda_files\\lib\\site-packages\\tensorboard\\compat\\tensorflow_stub\\dtypes.py:542: FutureWarning: Passing (type, 1) or '1type' as a synonym of type is deprecated; in a future version of numpy, it will be understood as (type, (1,)) / '(1,)type'.\n",
      "  _np_quint8 = np.dtype([(\"quint8\", np.uint8, 1)])\n",
      "D:\\anaconda_files\\lib\\site-packages\\tensorboard\\compat\\tensorflow_stub\\dtypes.py:543: FutureWarning: Passing (type, 1) or '1type' as a synonym of type is deprecated; in a future version of numpy, it will be understood as (type, (1,)) / '(1,)type'.\n",
      "  _np_qint16 = np.dtype([(\"qint16\", np.int16, 1)])\n",
      "D:\\anaconda_files\\lib\\site-packages\\tensorboard\\compat\\tensorflow_stub\\dtypes.py:544: FutureWarning: Passing (type, 1) or '1type' as a synonym of type is deprecated; in a future version of numpy, it will be understood as (type, (1,)) / '(1,)type'.\n",
      "  _np_quint16 = np.dtype([(\"quint16\", np.uint16, 1)])\n",
      "D:\\anaconda_files\\lib\\site-packages\\tensorboard\\compat\\tensorflow_stub\\dtypes.py:545: FutureWarning: Passing (type, 1) or '1type' as a synonym of type is deprecated; in a future version of numpy, it will be understood as (type, (1,)) / '(1,)type'.\n",
      "  _np_qint32 = np.dtype([(\"qint32\", np.int32, 1)])\n",
      "D:\\anaconda_files\\lib\\site-packages\\tensorboard\\compat\\tensorflow_stub\\dtypes.py:550: FutureWarning: Passing (type, 1) or '1type' as a synonym of type is deprecated; in a future version of numpy, it will be understood as (type, (1,)) / '(1,)type'.\n",
      "  np_resource = np.dtype([(\"resource\", np.ubyte, 1)])\n"
     ]
    }
   ],
   "source": [
    "import tensorflow as tf #no need to describe ;)\n",
    "import numpy as np #allows array operation\n",
    "import pandas as pd #we will use it to read and manipulate files and columns content\n",
    "\n",
    "from nltk.corpus import stopwords #provides list of english stopwords\n",
    "stop = stopwords.words('english')"
   ]
  },
  {
   "cell_type": "code",
   "execution_count": 2,
   "metadata": {},
   "outputs": [
    {
     "data": {
      "text/plain": [
       "'1.14.0'"
      ]
     },
     "execution_count": 2,
     "metadata": {},
     "output_type": "execute_result"
    }
   ],
   "source": [
    "tf.__version__"
   ]
  },
  {
   "cell_type": "code",
   "execution_count": 3,
   "metadata": {},
   "outputs": [],
   "source": [
    "train = pd.read_csv('UTS_TT_DATA.csv')"
   ]
  },
  {
   "cell_type": "code",
   "execution_count": 4,
   "metadata": {},
   "outputs": [
    {
     "data": {
      "text/html": [
       "<div>\n",
       "<style scoped>\n",
       "    .dataframe tbody tr th:only-of-type {\n",
       "        vertical-align: middle;\n",
       "    }\n",
       "\n",
       "    .dataframe tbody tr th {\n",
       "        vertical-align: top;\n",
       "    }\n",
       "\n",
       "    .dataframe thead th {\n",
       "        text-align: right;\n",
       "    }\n",
       "</style>\n",
       "<table border=\"1\" class=\"dataframe\">\n",
       "  <thead>\n",
       "    <tr style=\"text-align: right;\">\n",
       "      <th></th>\n",
       "      <th>row_number</th>\n",
       "      <th>affected_service</th>\n",
       "      <th>priority</th>\n",
       "      <th>description</th>\n",
       "      <th>title</th>\n",
       "    </tr>\n",
       "  </thead>\n",
       "  <tbody>\n",
       "    <tr>\n",
       "      <th>0</th>\n",
       "      <td>13133</td>\n",
       "      <td>Other</td>\n",
       "      <td>Minor</td>\n",
       "      <td>NTD ODU red. Rebooted in isolation, Still red....</td>\n",
       "      <td>NWAS-OTHER-*ANOM_ID36945*-ANOM_ID5775</td>\n",
       "    </tr>\n",
       "    <tr>\n",
       "      <th>1</th>\n",
       "      <td>17314</td>\n",
       "      <td>Intermittent signal</td>\n",
       "      <td>Minor</td>\n",
       "      <td>EU is reporting slow internet connection.\\r\\nP...</td>\n",
       "      <td>NWAS - Dropouts -*ANOM_ID42107*- ANOM_ID14570</td>\n",
       "    </tr>\n",
       "    <tr>\n",
       "      <th>2</th>\n",
       "      <td>17281</td>\n",
       "      <td>Loss of Signal</td>\n",
       "      <td>Minor</td>\n",
       "      <td>ISSUE:  Red ODU\\r\\n\\r\\nService Address:|Addres...</td>\n",
       "      <td>NWAS -*ANOM_ID5433*-*ANOM_ID13853*</td>\n",
       "    </tr>\n",
       "    <tr>\n",
       "      <th>3</th>\n",
       "      <td>3252</td>\n",
       "      <td>Intermittent signal</td>\n",
       "      <td>Medium</td>\n",
       "      <td>Fault Symptom: Drop Outs\\r\\n\\r\\nHave you check...</td>\n",
       "      <td>NWAS || Intermittent || ANOM_ID47835 || -*ANOM...</td>\n",
       "    </tr>\n",
       "    <tr>\n",
       "      <th>4</th>\n",
       "      <td>10699</td>\n",
       "      <td>Loss of Signal</td>\n",
       "      <td>Minor</td>\n",
       "      <td>EU is unable to connect to the internet.\\r\\nPr...</td>\n",
       "      <td>NWAS||SERVICE LOSS||`ICE LOSS||-*ANOM_ID58216*...</td>\n",
       "    </tr>\n",
       "  </tbody>\n",
       "</table>\n",
       "</div>"
      ],
      "text/plain": [
       "   row_number     affected_service priority  \\\n",
       "0       13133                Other    Minor   \n",
       "1       17314  Intermittent signal    Minor   \n",
       "2       17281       Loss of Signal    Minor   \n",
       "3        3252  Intermittent signal   Medium   \n",
       "4       10699       Loss of Signal    Minor   \n",
       "\n",
       "                                         description  \\\n",
       "0  NTD ODU red. Rebooted in isolation, Still red....   \n",
       "1  EU is reporting slow internet connection.\\r\\nP...   \n",
       "2  ISSUE:  Red ODU\\r\\n\\r\\nService Address:|Addres...   \n",
       "3  Fault Symptom: Drop Outs\\r\\n\\r\\nHave you check...   \n",
       "4  EU is unable to connect to the internet.\\r\\nPr...   \n",
       "\n",
       "                                               title  \n",
       "0              NWAS-OTHER-*ANOM_ID36945*-ANOM_ID5775  \n",
       "1      NWAS - Dropouts -*ANOM_ID42107*- ANOM_ID14570  \n",
       "2                 NWAS -*ANOM_ID5433*-*ANOM_ID13853*  \n",
       "3  NWAS || Intermittent || ANOM_ID47835 || -*ANOM...  \n",
       "4  NWAS||SERVICE LOSS||`ICE LOSS||-*ANOM_ID58216*...  "
      ]
     },
     "execution_count": 4,
     "metadata": {},
     "output_type": "execute_result"
    }
   ],
   "source": [
    "train.head()"
   ]
  },
  {
   "cell_type": "code",
   "execution_count": 5,
   "metadata": {},
   "outputs": [],
   "source": [
    "train['description_lower'] = train[\"description\"].str.lower()\n",
    "train['description_no_punctiation'] = train['description_lower'].str.replace('[^\\w\\s]','')\n",
    "train['description_no_punctiation'].head()"
   ]
  },
  {
   "cell_type": "code",
   "execution_count": 7,
   "metadata": {},
   "outputs": [],
   "source": [
    "\n",
    "train['description_no_stopwords'] = train['description_no_punctiation'].apply(lambda x: ' '.join([word for word in x.split() if word not in (stop)]))"
   ]
  },
  {
   "cell_type": "code",
   "execution_count": 8,
   "metadata": {},
   "outputs": [
    {
     "data": {
      "text/plain": [
       "0    ntd odu red rebooted isolation still red 0 sup...\n",
       "1    eu reporting slow internet connection provisio...\n",
       "2    issue red odu service addressaddress removed c...\n",
       "3    fault symptom drop outs checked powercabling c...\n",
       "4    eu unable connect internet provisioning nbn op...\n",
       "Name: description_no_stopwords, dtype: object"
      ]
     },
     "execution_count": 8,
     "metadata": {},
     "output_type": "execute_result"
    }
   ],
   "source": [
    "train['description_no_stopwords'].head()"
   ]
  },
  {
   "cell_type": "code",
   "execution_count": 9,
   "metadata": {},
   "outputs": [],
   "source": [
    "tf_train = train"
   ]
  },
  {
   "cell_type": "code",
   "execution_count": 10,
   "metadata": {},
   "outputs": [
    {
     "data": {
      "text/plain": [
       "'eu reporting slow internet connection provisioning nbn optus checked issues found optus systems showing sync eu reported visible damage nbn equipment eu replaced ethernet cable wntd rg eu tested using ethernet device connected directly wntd experienced fault please investigate open orders none fault type intermittent servicedropouts diagnostic questions isolation test run yes active incidents time fault power status answer provided power behaviour answer provided led status answer provided led behaviour answer provided odu status answer provided odu behaviour answer provided unid status answer provided unid behaviour answer provided signal strengths status answer provided ports used answer provided ntd serial number answer provided cpe connected answer provided cpe mac address answer provided cpe powercycled answer provided alternate cpe tested answer provided test results test result 1 test id anom_id57221 test type loopback test test result passed'"
      ]
     },
     "execution_count": 10,
     "metadata": {},
     "output_type": "execute_result"
    }
   ],
   "source": [
    "tf_train['description_no_stopwords'][1]"
   ]
  },
  {
   "cell_type": "code",
   "execution_count": 14,
   "metadata": {},
   "outputs": [
    {
     "data": {
      "text/plain": [
       "134"
      ]
     },
     "execution_count": 14,
     "metadata": {},
     "output_type": "execute_result"
    }
   ],
   "source": [
    "tf_train['description_no_stopwords'][1].count(' ')"
   ]
  },
  {
   "cell_type": "code",
   "execution_count": 15,
   "metadata": {},
   "outputs": [],
   "source": [
    "max_features=5000 #we set maximum number of words to 5000\n",
    "maxlen=100 #and maximum sequence length to 100"
   ]
  },
  {
   "cell_type": "code",
   "execution_count": 16,
   "metadata": {},
   "outputs": [],
   "source": [
    "tok = tf.keras.preprocessing.text.Tokenizer(num_words=max_features) #tokenizer step"
   ]
  },
  {
   "cell_type": "code",
   "execution_count": 17,
   "metadata": {},
   "outputs": [],
   "source": [
    "tok.fit_on_texts(list(tf_train['description_no_stopwords'])) #fit to cleaned text"
   ]
  },
  {
   "cell_type": "code",
   "execution_count": 18,
   "metadata": {},
   "outputs": [],
   "source": [
    "tf_train=tok.texts_to_sequences(list(tf_train['description_no_stopwords']))"
   ]
  },
  {
   "cell_type": "code",
   "execution_count": 19,
   "metadata": {
    "collapsed": true
   },
   "outputs": [
    {
     "name": "stdout",
     "output_type": "stream",
     "text": [
      "<class 'list'>\n",
      "135\n"
     ]
    },
    {
     "data": {
      "text/plain": [
       "[70,\n",
       " 200,\n",
       " 130,\n",
       " 66,\n",
       " 74,\n",
       " 159,\n",
       " 23,\n",
       " 111,\n",
       " 104,\n",
       " 133,\n",
       " 137,\n",
       " 111,\n",
       " 182,\n",
       " 131,\n",
       " 135,\n",
       " 70,\n",
       " 152,\n",
       " 154,\n",
       " 148,\n",
       " 23,\n",
       " 115,\n",
       " 70,\n",
       " 510,\n",
       " 172,\n",
       " 80,\n",
       " 125,\n",
       " 1766,\n",
       " 70,\n",
       " 25,\n",
       " 309,\n",
       " 172,\n",
       " 195,\n",
       " 39,\n",
       " 230,\n",
       " 125,\n",
       " 758,\n",
       " 14,\n",
       " 60,\n",
       " 81,\n",
       " 43,\n",
       " 42,\n",
       " 40,\n",
       " 14,\n",
       " 7,\n",
       " 155,\n",
       " 171,\n",
       " 48,\n",
       " 52,\n",
       " 28,\n",
       " 1,\n",
       " 32,\n",
       " 17,\n",
       " 37,\n",
       " 38,\n",
       " 36,\n",
       " 14,\n",
       " 8,\n",
       " 2,\n",
       " 4,\n",
       " 3,\n",
       " 8,\n",
       " 10,\n",
       " 4,\n",
       " 3,\n",
       " 12,\n",
       " 2,\n",
       " 4,\n",
       " 3,\n",
       " 12,\n",
       " 10,\n",
       " 4,\n",
       " 3,\n",
       " 16,\n",
       " 2,\n",
       " 4,\n",
       " 3,\n",
       " 16,\n",
       " 10,\n",
       " 4,\n",
       " 3,\n",
       " 20,\n",
       " 2,\n",
       " 4,\n",
       " 3,\n",
       " 20,\n",
       " 10,\n",
       " 4,\n",
       " 3,\n",
       " 30,\n",
       " 55,\n",
       " 2,\n",
       " 4,\n",
       " 3,\n",
       " 51,\n",
       " 49,\n",
       " 4,\n",
       " 3,\n",
       " 18,\n",
       " 46,\n",
       " 41,\n",
       " 4,\n",
       " 3,\n",
       " 5,\n",
       " 39,\n",
       " 4,\n",
       " 3,\n",
       " 5,\n",
       " 29,\n",
       " 45,\n",
       " 4,\n",
       " 3,\n",
       " 5,\n",
       " 31,\n",
       " 4,\n",
       " 3,\n",
       " 27,\n",
       " 5,\n",
       " 25,\n",
       " 4,\n",
       " 3,\n",
       " 1,\n",
       " 44,\n",
       " 1,\n",
       " 6,\n",
       " 35,\n",
       " 1,\n",
       " 15,\n",
       " 9,\n",
       " 1,\n",
       " 7,\n",
       " 13,\n",
       " 1,\n",
       " 1,\n",
       " 6,\n",
       " 99]"
      ]
     },
     "execution_count": 19,
     "metadata": {},
     "output_type": "execute_result"
    }
   ],
   "source": [
    "print(type(tf_train)) #we see that the type is now list\n",
    "print(len(tf_train[1])) #we see that the number of words of the sentence is decreased to 16\n",
    "tf_train[1] #and this is how our sentece looks like now, exactly a sequence of integers"
   ]
  },
  {
   "cell_type": "code",
   "execution_count": 20,
   "metadata": {},
   "outputs": [],
   "source": [
    "tf_train=tf.keras.preprocessing.sequence.pad_sequences(tf_train, maxlen=maxlen) #let's execute pad step"
   ]
  },
  {
   "cell_type": "code",
   "execution_count": 21,
   "metadata": {},
   "outputs": [
    {
     "name": "stdout",
     "output_type": "stream",
     "text": [
      "100\n"
     ]
    },
    {
     "data": {
      "text/plain": [
       "array([758,  14,  60,  81,  43,  42,  40,  14,   7, 155, 171,  48,  52,\n",
       "        28,   1,  32,  17,  37,  38,  36,  14,   8,   2,   4,   3,   8,\n",
       "        10,   4,   3,  12,   2,   4,   3,  12,  10,   4,   3,  16,   2,\n",
       "         4,   3,  16,  10,   4,   3,  20,   2,   4,   3,  20,  10,   4,\n",
       "         3,  30,  55,   2,   4,   3,  51,  49,   4,   3,  18,  46,  41,\n",
       "         4,   3,   5,  39,   4,   3,   5,  29,  45,   4,   3,   5,  31,\n",
       "         4,   3,  27,   5,  25,   4,   3,   1,  44,   1,   6,  35,   1,\n",
       "        15,   9,   1,   7,  13,   1,   1,   6,  99])"
      ]
     },
     "execution_count": 21,
     "metadata": {},
     "output_type": "execute_result"
    }
   ],
   "source": [
    "print(len(tf_train[1]))\n",
    "tf_train[1] #this is how our sentece looks like after the pad step we don't have anymore 16 words but 100 (equivalent to maxlen)"
   ]
  },
  {
   "cell_type": "code",
   "execution_count": 22,
   "metadata": {},
   "outputs": [
    {
     "data": {
      "text/plain": [
       "'eu reporting slow internet connection provisioning nbn optus checked issues found optus systems showing sync eu reported visible damage nbn equipment eu replaced ethernet cable wntd rg eu tested using ethernet device connected directly wntd experienced fault please investigate open orders none fault type intermittent servicedropouts diagnostic questions isolation test run yes active incidents time fault power status answer provided power behaviour answer provided led status answer provided led behaviour answer provided odu status answer provided odu behaviour answer provided unid status answer provided unid behaviour answer provided signal strengths status answer provided ports used answer provided ntd serial number answer provided cpe connected answer provided cpe mac address answer provided cpe powercycled answer provided alternate cpe tested answer provided test results test result 1 test id anom_id57221 test type loopback test test result passed'"
      ]
     },
     "execution_count": 22,
     "metadata": {},
     "output_type": "execute_result"
    }
   ],
   "source": [
    "train['description_no_stopwords'][1]"
   ]
  },
  {
   "cell_type": "code",
   "execution_count": 23,
   "metadata": {},
   "outputs": [],
   "source": [
    "tf_train = pd.DataFrame(tf_train)"
   ]
  },
  {
   "cell_type": "code",
   "execution_count": 26,
   "metadata": {},
   "outputs": [
    {
     "data": {
      "text/html": [
       "<div>\n",
       "<style scoped>\n",
       "    .dataframe tbody tr th:only-of-type {\n",
       "        vertical-align: middle;\n",
       "    }\n",
       "\n",
       "    .dataframe tbody tr th {\n",
       "        vertical-align: top;\n",
       "    }\n",
       "\n",
       "    .dataframe thead th {\n",
       "        text-align: right;\n",
       "    }\n",
       "</style>\n",
       "<table border=\"1\" class=\"dataframe\">\n",
       "  <thead>\n",
       "    <tr style=\"text-align: right;\">\n",
       "      <th></th>\n",
       "      <th>0</th>\n",
       "      <th>1</th>\n",
       "      <th>2</th>\n",
       "      <th>3</th>\n",
       "      <th>4</th>\n",
       "      <th>5</th>\n",
       "      <th>6</th>\n",
       "      <th>7</th>\n",
       "      <th>8</th>\n",
       "      <th>9</th>\n",
       "      <th>...</th>\n",
       "      <th>90</th>\n",
       "      <th>91</th>\n",
       "      <th>92</th>\n",
       "      <th>93</th>\n",
       "      <th>94</th>\n",
       "      <th>95</th>\n",
       "      <th>96</th>\n",
       "      <th>97</th>\n",
       "      <th>98</th>\n",
       "      <th>99</th>\n",
       "    </tr>\n",
       "  </thead>\n",
       "  <tbody>\n",
       "    <tr>\n",
       "      <th>0</th>\n",
       "      <td>37</td>\n",
       "      <td>344</td>\n",
       "      <td>168</td>\n",
       "      <td>38</td>\n",
       "      <td>430</td>\n",
       "      <td>37</td>\n",
       "      <td>253</td>\n",
       "      <td>930</td>\n",
       "      <td>330</td>\n",
       "      <td>340</td>\n",
       "      <td>...</td>\n",
       "      <td>1</td>\n",
       "      <td>15</td>\n",
       "      <td>9</td>\n",
       "      <td>1</td>\n",
       "      <td>7</td>\n",
       "      <td>13</td>\n",
       "      <td>1</td>\n",
       "      <td>1</td>\n",
       "      <td>6</td>\n",
       "      <td>34</td>\n",
       "    </tr>\n",
       "    <tr>\n",
       "      <th>1</th>\n",
       "      <td>758</td>\n",
       "      <td>14</td>\n",
       "      <td>60</td>\n",
       "      <td>81</td>\n",
       "      <td>43</td>\n",
       "      <td>42</td>\n",
       "      <td>40</td>\n",
       "      <td>14</td>\n",
       "      <td>7</td>\n",
       "      <td>155</td>\n",
       "      <td>...</td>\n",
       "      <td>1</td>\n",
       "      <td>15</td>\n",
       "      <td>9</td>\n",
       "      <td>1</td>\n",
       "      <td>7</td>\n",
       "      <td>13</td>\n",
       "      <td>1</td>\n",
       "      <td>1</td>\n",
       "      <td>6</td>\n",
       "      <td>99</td>\n",
       "    </tr>\n",
       "    <tr>\n",
       "      <th>2</th>\n",
       "      <td>12</td>\n",
       "      <td>2</td>\n",
       "      <td>62</td>\n",
       "      <td>16</td>\n",
       "      <td>2</td>\n",
       "      <td>53</td>\n",
       "      <td>20</td>\n",
       "      <td>2</td>\n",
       "      <td>62</td>\n",
       "      <td>30</td>\n",
       "      <td>...</td>\n",
       "      <td>1</td>\n",
       "      <td>15</td>\n",
       "      <td>9</td>\n",
       "      <td>1</td>\n",
       "      <td>7</td>\n",
       "      <td>13</td>\n",
       "      <td>1</td>\n",
       "      <td>1</td>\n",
       "      <td>6</td>\n",
       "      <td>34</td>\n",
       "    </tr>\n",
       "    <tr>\n",
       "      <th>3</th>\n",
       "      <td>972</td>\n",
       "      <td>118</td>\n",
       "      <td>1169</td>\n",
       "      <td>50</td>\n",
       "      <td>976</td>\n",
       "      <td>17</td>\n",
       "      <td>43</td>\n",
       "      <td>42</td>\n",
       "      <td>40</td>\n",
       "      <td>14</td>\n",
       "      <td>...</td>\n",
       "      <td>1</td>\n",
       "      <td>15</td>\n",
       "      <td>9</td>\n",
       "      <td>1</td>\n",
       "      <td>7</td>\n",
       "      <td>13</td>\n",
       "      <td>1</td>\n",
       "      <td>1</td>\n",
       "      <td>6</td>\n",
       "      <td>99</td>\n",
       "    </tr>\n",
       "    <tr>\n",
       "      <th>4</th>\n",
       "      <td>115</td>\n",
       "      <td>60</td>\n",
       "      <td>81</td>\n",
       "      <td>43</td>\n",
       "      <td>42</td>\n",
       "      <td>40</td>\n",
       "      <td>14</td>\n",
       "      <td>7</td>\n",
       "      <td>59</td>\n",
       "      <td>65</td>\n",
       "      <td>...</td>\n",
       "      <td>1</td>\n",
       "      <td>15</td>\n",
       "      <td>9</td>\n",
       "      <td>1</td>\n",
       "      <td>7</td>\n",
       "      <td>13</td>\n",
       "      <td>1</td>\n",
       "      <td>1</td>\n",
       "      <td>6</td>\n",
       "      <td>34</td>\n",
       "    </tr>\n",
       "  </tbody>\n",
       "</table>\n",
       "<p>5 rows × 100 columns</p>\n",
       "</div>"
      ],
      "text/plain": [
       "    0    1     2   3    4   5    6    7    8    9   ...  90  91  92  93  94  \\\n",
       "0   37  344   168  38  430  37  253  930  330  340  ...   1  15   9   1   7   \n",
       "1  758   14    60  81   43  42   40   14    7  155  ...   1  15   9   1   7   \n",
       "2   12    2    62  16    2  53   20    2   62   30  ...   1  15   9   1   7   \n",
       "3  972  118  1169  50  976  17   43   42   40   14  ...   1  15   9   1   7   \n",
       "4  115   60    81  43   42  40   14    7   59   65  ...   1  15   9   1   7   \n",
       "\n",
       "   95  96  97  98  99  \n",
       "0  13   1   1   6  34  \n",
       "1  13   1   1   6  99  \n",
       "2  13   1   1   6  34  \n",
       "3  13   1   1   6  99  \n",
       "4  13   1   1   6  34  \n",
       "\n",
       "[5 rows x 100 columns]"
      ]
     },
     "execution_count": 26,
     "metadata": {},
     "output_type": "execute_result"
    }
   ],
   "source": [
    "tf_train.head()"
   ]
  },
  {
   "cell_type": "code",
   "execution_count": null,
   "metadata": {},
   "outputs": [],
   "source": []
  }
 ],
 "metadata": {
  "kernelspec": {
   "display_name": "Python 3",
   "language": "python",
   "name": "python3"
  },
  "language_info": {
   "codemirror_mode": {
    "name": "ipython",
    "version": 3
   },
   "file_extension": ".py",
   "mimetype": "text/x-python",
   "name": "python",
   "nbconvert_exporter": "python",
   "pygments_lexer": "ipython3",
   "version": "3.7.4"
  }
 },
 "nbformat": 4,
 "nbformat_minor": 4
}
