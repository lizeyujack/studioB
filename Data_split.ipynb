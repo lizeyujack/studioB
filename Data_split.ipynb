{
 "cells": [
  {
   "cell_type": "code",
   "execution_count": 1,
   "metadata": {},
   "outputs": [],
   "source": [
    "import pandas as pd"
   ]
  },
  {
   "cell_type": "code",
   "execution_count": 5,
   "metadata": {},
   "outputs": [
    {
     "data": {
      "text/html": [
       "<div>\n",
       "<style scoped>\n",
       "    .dataframe tbody tr th:only-of-type {\n",
       "        vertical-align: middle;\n",
       "    }\n",
       "\n",
       "    .dataframe tbody tr th {\n",
       "        vertical-align: top;\n",
       "    }\n",
       "\n",
       "    .dataframe thead th {\n",
       "        text-align: right;\n",
       "    }\n",
       "</style>\n",
       "<table border=\"1\" class=\"dataframe\">\n",
       "  <thead>\n",
       "    <tr style=\"text-align: right;\">\n",
       "      <th></th>\n",
       "      <th>row_number</th>\n",
       "      <th>affected_service</th>\n",
       "      <th>priority</th>\n",
       "      <th>description</th>\n",
       "      <th>title</th>\n",
       "    </tr>\n",
       "  </thead>\n",
       "  <tbody>\n",
       "    <tr>\n",
       "      <th>19946</th>\n",
       "      <td>13310</td>\n",
       "      <td>Loss of Signal</td>\n",
       "      <td>Minor</td>\n",
       "      <td>EU is unable to connect to the internet.\\r\\nPr...</td>\n",
       "      <td>NWAS NO DATA-*ANOM_ID12423*-ANOM_ID19707</td>\n",
       "    </tr>\n",
       "    <tr>\n",
       "      <th>19947</th>\n",
       "      <td>8840</td>\n",
       "      <td>Loss of Signal</td>\n",
       "      <td>Medium</td>\n",
       "      <td>Test Type - loopback\\r\\nTest Result - Fail\\r\\n...</td>\n",
       "      <td>NWAS No Data - *ANOM_ID35319*-</td>\n",
       "    </tr>\n",
       "    <tr>\n",
       "      <th>19948</th>\n",
       "      <td>12000</td>\n",
       "      <td>Signal degradation</td>\n",
       "      <td>Minor</td>\n",
       "      <td>RG and NTD connected directly.\\r\\nDone reset t...</td>\n",
       "      <td>NWAS SPEED | ANOM_ID12927 |-*ANOM_ID9486*-</td>\n",
       "    </tr>\n",
       "    <tr>\n",
       "      <th>19949</th>\n",
       "      <td>16100</td>\n",
       "      <td>Other</td>\n",
       "      <td>Medium</td>\n",
       "      <td>Test Type - loopback\\r\\nTest Result - Fail\\r\\n...</td>\n",
       "      <td>NWAS-DROP-*ANOM_ID45152*-ANOM_ID22149</td>\n",
       "    </tr>\n",
       "    <tr>\n",
       "      <th>19950</th>\n",
       "      <td>16700</td>\n",
       "      <td>Loss of Signal</td>\n",
       "      <td>Minor</td>\n",
       "      <td>EU is unable to connect to the internet.\\r\\nPr...</td>\n",
       "      <td>NWAS Service loss -*ANOM_ID28741*-ANOM_ID16522</td>\n",
       "    </tr>\n",
       "  </tbody>\n",
       "</table>\n",
       "</div>"
      ],
      "text/plain": [
       "       row_number    affected_service priority  \\\n",
       "19946       13310      Loss of Signal    Minor   \n",
       "19947        8840      Loss of Signal   Medium   \n",
       "19948       12000  Signal degradation    Minor   \n",
       "19949       16100               Other   Medium   \n",
       "19950       16700      Loss of Signal    Minor   \n",
       "\n",
       "                                             description  \\\n",
       "19946  EU is unable to connect to the internet.\\r\\nPr...   \n",
       "19947  Test Type - loopback\\r\\nTest Result - Fail\\r\\n...   \n",
       "19948  RG and NTD connected directly.\\r\\nDone reset t...   \n",
       "19949  Test Type - loopback\\r\\nTest Result - Fail\\r\\n...   \n",
       "19950  EU is unable to connect to the internet.\\r\\nPr...   \n",
       "\n",
       "                                                title  \n",
       "19946        NWAS NO DATA-*ANOM_ID12423*-ANOM_ID19707  \n",
       "19947                  NWAS No Data - *ANOM_ID35319*-  \n",
       "19948      NWAS SPEED | ANOM_ID12927 |-*ANOM_ID9486*-  \n",
       "19949           NWAS-DROP-*ANOM_ID45152*-ANOM_ID22149  \n",
       "19950  NWAS Service loss -*ANOM_ID28741*-ANOM_ID16522  "
      ]
     },
     "execution_count": 5,
     "metadata": {},
     "output_type": "execute_result"
    }
   ],
   "source": [
    "df = pd.read_csv(\"UTS_TT_DATA.csv\")\n",
    "df.tail()"
   ]
  },
  {
   "cell_type": "code",
   "execution_count": null,
   "metadata": {},
   "outputs": [],
   "source": [
    " df['affected_service'].value_counts()"
   ]
  },
  {
   "cell_type": "code",
   "execution_count": 37,
   "metadata": {},
   "outputs": [],
   "source": [
    "i = 0\n",
    "list1 = []\n",
    "list2 = []\n",
    "list3 = []\n",
    "list4 = []\n",
    "list5 = []\n",
    "list6 = []\n",
    "list7 = []\n",
    "list8 = []\n",
    "list9 = []\n",
    "list10 = []\n",
    "list11 = []\n",
    "list12 = []\n",
    "while i < 19950 :\n",
    "    if df.iloc[i,1] == 'Signal degradation':\n",
    "        list1.append(df.iloc[i,:].tolist())\n",
    "    if df.iloc[i,1] == 'Dead UNI-D':\n",
    "        list2.append(df.iloc[i,:].tolist())\n",
    "    if df.iloc[i,1] == 'Other':\n",
    "        list3.append(df.iloc[i,:].tolist())\n",
    "    if df.iloc[i,1] == 'Intermittent signal':\n",
    "        list4.append(df.iloc[i,:].tolist())\n",
    "    if df.iloc[i,1] == 'Dead WNTD':\n",
    "        list5.append(df.iloc[i,:].tolist())\n",
    "    if df.iloc[i,1] == 'Packet Loss':\n",
    "        list6.append(df.iloc[i,:].tolist())\n",
    "    if df.iloc[i,1] == 'Physical damage':\n",
    "        list7.append(df.iloc[i,:].tolist())\n",
    "    if df.iloc[i,1] == 'Power Supply Unit':\n",
    "        list8.append(df.iloc[i,:].tolist())\n",
    "    if df.iloc[i,1] == 'Intermittent Power':\n",
    "        list9.append(df.iloc[i,:].tolist())\n",
    "    if df.iloc[i,1] == 'No dataflow':\n",
    "        list10.append(df.iloc[i,:].tolist())\n",
    "    if df.iloc[i,1] == 'Slow speed':\n",
    "        list11.append(df.iloc[i,:].tolist())\n",
    "    if df.iloc[i,1] == 'Dead UNI-V':\n",
    "        list12.append(df.iloc[i,:].tolist())\n",
    "    i = i + 1"
   ]
  },
  {
   "cell_type": "code",
   "execution_count": 50,
   "metadata": {},
   "outputs": [],
   "source": [
    "name = df.columns.values.tolist()\n",
    "test=pd.DataFrame(columns=name,data=list12)\n",
    "test.to_csv('Dead UNI-V.csv',encoding='utf-8')"
   ]
  },
  {
   "cell_type": "code",
   "execution_count": 51,
   "metadata": {},
   "outputs": [
    {
     "data": {
      "text/plain": [
       "['row_number', 'affected_service', 'priority', 'description', 'title']"
      ]
     },
     "execution_count": 51,
     "metadata": {},
     "output_type": "execute_result"
    }
   ],
   "source": [
    "name"
   ]
  },
  {
   "cell_type": "code",
   "execution_count": null,
   "metadata": {},
   "outputs": [],
   "source": []
  }
 ],
 "metadata": {
  "kernelspec": {
   "display_name": "Python 3",
   "language": "python",
   "name": "python3"
  },
  "language_info": {
   "codemirror_mode": {
    "name": "ipython",
    "version": 3
   },
   "file_extension": ".py",
   "mimetype": "text/x-python",
   "name": "python",
   "nbconvert_exporter": "python",
   "pygments_lexer": "ipython3",
   "version": "3.7.4"
  }
 },
 "nbformat": 4,
 "nbformat_minor": 4
}
