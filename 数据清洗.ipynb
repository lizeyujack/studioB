{
 "cells": [
  {
   "cell_type": "code",
   "execution_count": 1,
   "metadata": {},
   "outputs": [],
   "source": [
    "import re\n",
    "from nltk.corpus import stopwords"
   ]
  },
  {
   "cell_type": "code",
   "execution_count": 2,
   "metadata": {},
   "outputs": [],
   "source": [
    "cache_english_stopwords = stopwords.words('english')"
   ]
  },
  {
   "cell_type": "code",
   "execution_count": 5,
   "metadata": {},
   "outputs": [],
   "source": [
    "s = \"\"\"NTD ODU red. Rebooted in isolation, Still red.\n",
    "\n",
    "======================\n",
    "0) Support Template: 01 - Connection Issue\n",
    "1) Contract: 50069995\n",
    "2) Select Connection Issue Type: No Connection / Cannot browse at all\n",
    "3) Is there a current session in Eclipse?: No, there's no current session\n",
    "4) Is customer experiencing dropouts or no connection?: No Connection\n",
    "5) Is service activated?: yes\n",
    "6) Is service suspended?: no\n",
    "7) Which service has no connection?: NBN Fixed Wireless\n",
    "8) NTD Lights: Power Green, Status Green, ODU Red, Signal Red\n",
    "9) Confirm ethernet ODU cable is secure to WNTD and wall: Yes, ODU cable securely connected\n",
    "10) Reboot Wireless NTD: Rebooted CPE and SNTD\n",
    "11) Has the connection ever worked?: yes\n",
    "12) Timestamp connection was lost: 05/02/2020 4:59\n",
    "13) Are there any active CRQ or network incidents?: no\n",
    "14) Are there any active PRI modifies?: no\n",
    "15) Does the antenna have clear LOS?: LOS is clear\n",
    "16) Confirm Wireless NTD ID: ANOM_ID5775\n",
    "17) Select Supplier: NBN\n",
    "======================\n",
    "\n",
    "Open orders - none\n",
    "\n",
    "Fault Type - No data connection/red optical\n",
    "\n",
    "##DIAGNOSTIC QUESTIONS##\n",
    "Power Status - Green\n",
    "Power Behaviour - Solid\n",
    "LED Status - Green\n",
    "LED Behaviour - Flashing\n",
    "ODU Status - Red\n",
    "ODU Behaviour - Solid\n",
    "Signal Strengths Status - Red\n",
    "Ports being used - D1\n",
    "NTD Serial Number - ANOM_ID5775\n",
    "What CPE Is Connected? - Router\n",
    "What is the CPE MAC address? - |MAC Removed|\n",
    "Has the CPE been powercycled? - Yes\n",
    "Has an alternate CPE been tested? - Yes\n",
    "Has an isolation test been run? - No\n",
    "Any active incidents at time of fault? - No\n",
    "\n",
    "##TEST RESULTS##\n",
    "#TEST RESULT# :1\n",
    "Test ID - ANOM_ID10800\n",
    "Test Type - Loopback test\n",
    "Test Result - Failed\"\"\""
   ]
  },
  {
   "cell_type": "code",
   "execution_count": 6,
   "metadata": {},
   "outputs": [
    {
     "data": {
      "text/plain": [
       "\"NTD ODU red. Rebooted in isolation, Still red.\\n\\n======================\\n0) Support Template: 01 - Connection Issue\\n1) Contract: 50069995\\n2) Select Connection Issue Type: No Connection / Cannot browse at all\\n3) Is there a current session in Eclipse?: No, there's no current session\\n4) Is customer experiencing dropouts or no connection?: No Connection\\n5) Is service activated?: yes\\n6) Is service suspended?: no\\n7) Which service has no connection?: NBN Fixed Wireless\\n8) NTD Lights: Power Green, Status Green, ODU Red, Signal Red\\n9) Confirm ethernet ODU cable is secure to WNTD and wall: Yes, ODU cable securely connected\\n10) Reboot Wireless NTD: Rebooted CPE and SNTD\\n11) Has the connection ever worked?: yes\\n12) Timestamp connection was lost: 05/02/2020 4:59\\n13) Are there any active CRQ or network incidents?: no\\n14) Are there any active PRI modifies?: no\\n15) Does the antenna have clear LOS?: LOS is clear\\n16) Confirm Wireless NTD ID: ANOM_ID5775\\n17) Select Supplier: NBN\\n======================\\n\\nOpen orders - none\\n\\nFault Type - No data connection/red optical\\n\\n##DIAGNOSTIC QUESTIONS##\\nPower Status - Green\\nPower Behaviour - Solid\\nLED Status - Green\\nLED Behaviour - Flashing\\nODU Status - Red\\nODU Behaviour - Solid\\nSignal Strengths Status - Red\\nPorts being used - D1\\nNTD Serial Number - ANOM_ID5775\\nWhat CPE Is Connected? - Router\\nWhat is the CPE MAC address? - |MAC Removed|\\nHas the CPE been powercycled? - Yes\\nHas an alternate CPE been tested? - Yes\\nHas an isolation test been run? - No\\nAny active incidents at time of fault? - No\\n\\n##TEST RESULTS##\\n#TEST RESULT# :1\\nTest ID - ANOM_ID10800\\nTest Type - Loopback test\\nTest Result - Failed\""
      ]
     },
     "execution_count": 6,
     "metadata": {},
     "output_type": "execute_result"
    }
   ],
   "source": [
    "s"
   ]
  },
  {
   "cell_type": "code",
   "execution_count": 35,
   "metadata": {},
   "outputs": [],
   "source": [
    "def text_clean(text):\n",
    "    k = text.replace('\\n\\n','\\n')\n",
    "    no_n = re.split(r'\\n',k)\n",
    "\n",
    "    return no_n"
   ]
  },
  {
   "cell_type": "code",
   "execution_count": 36,
   "metadata": {},
   "outputs": [
    {
     "data": {
      "text/plain": [
       "['NTD ODU red. Rebooted in isolation, Still red.',\n",
       " '======================',\n",
       " '0) Support Template: 01 - Connection Issue',\n",
       " '1) Contract: 50069995',\n",
       " '2) Select Connection Issue Type: No Connection / Cannot browse at all',\n",
       " \"3) Is there a current session in Eclipse?: No, there's no current session\",\n",
       " '4) Is customer experiencing dropouts or no connection?: No Connection',\n",
       " '5) Is service activated?: yes',\n",
       " '6) Is service suspended?: no',\n",
       " '7) Which service has no connection?: NBN Fixed Wireless',\n",
       " '8) NTD Lights: Power Green, Status Green, ODU Red, Signal Red',\n",
       " '9) Confirm ethernet ODU cable is secure to WNTD and wall: Yes, ODU cable securely connected',\n",
       " '10) Reboot Wireless NTD: Rebooted CPE and SNTD',\n",
       " '11) Has the connection ever worked?: yes',\n",
       " '12) Timestamp connection was lost: 05/02/2020 4:59',\n",
       " '13) Are there any active CRQ or network incidents?: no',\n",
       " '14) Are there any active PRI modifies?: no',\n",
       " '15) Does the antenna have clear LOS?: LOS is clear',\n",
       " '16) Confirm Wireless NTD ID: ANOM_ID5775',\n",
       " '17) Select Supplier: NBN',\n",
       " '======================',\n",
       " 'Open orders - none',\n",
       " 'Fault Type - No data connection/red optical',\n",
       " '##DIAGNOSTIC QUESTIONS##',\n",
       " 'Power Status - Green',\n",
       " 'Power Behaviour - Solid',\n",
       " 'LED Status - Green',\n",
       " 'LED Behaviour - Flashing',\n",
       " 'ODU Status - Red',\n",
       " 'ODU Behaviour - Solid',\n",
       " 'Signal Strengths Status - Red',\n",
       " 'Ports being used - D1',\n",
       " 'NTD Serial Number - ANOM_ID5775',\n",
       " 'What CPE Is Connected? - Router',\n",
       " 'What is the CPE MAC address? - |MAC Removed|',\n",
       " 'Has the CPE been powercycled? - Yes',\n",
       " 'Has an alternate CPE been tested? - Yes',\n",
       " 'Has an isolation test been run? - No',\n",
       " 'Any active incidents at time of fault? - No',\n",
       " '##TEST RESULTS##',\n",
       " '#TEST RESULT# :1',\n",
       " 'Test ID - ANOM_ID10800',\n",
       " 'Test Type - Loopback test',\n",
       " 'Test Result - Failed']"
      ]
     },
     "execution_count": 36,
     "metadata": {},
     "output_type": "execute_result"
    }
   ],
   "source": [
    "text_clean(s)"
   ]
  },
  {
   "cell_type": "code",
   "execution_count": 102,
   "metadata": {},
   "outputs": [
    {
     "data": {
      "text/plain": [
       "['NTD ODU red. Rebooted in isolation, Still red.',\n",
       " '',\n",
       " '======================',\n",
       " '0) Support Template: 01 - Connection Issue',\n",
       " '1) Contract: 50069995',\n",
       " '2) Select Connection Issue Type: No Connection / Cannot browse at all',\n",
       " \"3) Is there a current session in Eclipse?: No, there's no current session\",\n",
       " '4) Is customer experiencing dropouts or no connection?: No Connection',\n",
       " '5) Is service activated?: yes',\n",
       " '6) Is service suspended?: no',\n",
       " '7) Which service has no connection?: NBN Fixed Wireless',\n",
       " '8) NTD Lights: Power Green, Status Green, ODU Red, Signal Red',\n",
       " '9) Confirm ethernet ODU cable is secure to WNTD and wall: Yes, ODU cable securely connected',\n",
       " '10) Reboot Wireless NTD: Rebooted CPE and SNTD',\n",
       " '11) Has the connection ever worked?: yes',\n",
       " '12) Timestamp connection was lost: 05/02/2020 4:59',\n",
       " '13) Are there any active CRQ or network incidents?: no',\n",
       " '14) Are there any active PRI modifies?: no',\n",
       " '15) Does the antenna have clear LOS?: LOS is clear',\n",
       " '16) Confirm Wireless NTD ID: ANOM_ID5775',\n",
       " '17) Select Supplier: NBN',\n",
       " '======================',\n",
       " '',\n",
       " 'Open orders - none',\n",
       " '',\n",
       " 'Fault Type - No data connection/red optical',\n",
       " '',\n",
       " '##DIAGNOSTIC QUESTIONS##',\n",
       " 'Power Status - Green',\n",
       " 'Power Behaviour - Solid',\n",
       " 'LED Status - Green',\n",
       " 'LED Behaviour - Flashing',\n",
       " 'ODU Status - Red',\n",
       " 'ODU Behaviour - Solid',\n",
       " 'Signal Strengths Status - Red',\n",
       " 'Ports being used - D1',\n",
       " 'NTD Serial Number - ANOM_ID5775',\n",
       " 'What CPE Is Connected? - Router',\n",
       " 'What is the CPE MAC address? - |MAC Removed|',\n",
       " 'Has the CPE been powercycled? - Yes',\n",
       " 'Has an alternate CPE been tested? - Yes',\n",
       " 'Has an isolation test been run? - No',\n",
       " 'Any active incidents at time of fault? - No',\n",
       " '',\n",
       " '##TEST RESULTS##',\n",
       " '#TEST RESULT# :1',\n",
       " 'Test ID - ANOM_ID10800',\n",
       " 'Test Type - Loopback test',\n",
       " 'Test Result - Failed']"
      ]
     },
     "execution_count": 102,
     "metadata": {},
     "output_type": "execute_result"
    }
   ],
   "source": [
    "a = re.sub(r'\\d\\s\\w*no$','',s)\n",
    "a.split('\\n')"
   ]
  },
  {
   "cell_type": "code",
   "execution_count": 92,
   "metadata": {},
   "outputs": [],
   "source": [
    "k = '6) dnksdcnsdlcndk: no'\n",
    "pattern = re.match(r'[\\d\\)\\s\\w+\\s(yes)$]',k)\n",
    "# re.subn(pattern,'替换',k)"
   ]
  },
  {
   "cell_type": "code",
   "execution_count": 89,
   "metadata": {},
   "outputs": [
    {
     "name": "stdout",
     "output_type": "stream",
     "text": [
      "True\n"
     ]
    }
   ],
   "source": [
    "if pattern:\n",
    "    print(True)\n",
    "else:\n",
    "    print(False)"
   ]
  },
  {
   "cell_type": "code",
   "execution_count": null,
   "metadata": {},
   "outputs": [],
   "source": []
  }
 ],
 "metadata": {
  "kernelspec": {
   "display_name": "Python 3",
   "language": "python",
   "name": "python3"
  },
  "language_info": {
   "codemirror_mode": {
    "name": "ipython",
    "version": 3
   },
   "file_extension": ".py",
   "mimetype": "text/x-python",
   "name": "python",
   "nbconvert_exporter": "python",
   "pygments_lexer": "ipython3",
   "version": "3.7.4"
  }
 },
 "nbformat": 4,
 "nbformat_minor": 4
}
