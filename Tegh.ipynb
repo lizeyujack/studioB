{
 "cells": [
  {
   "cell_type": "code",
   "execution_count": 2,
   "metadata": {},
   "outputs": [],
   "source": [
    "import numpy as np\n",
    "import matplotlib.pyplot as plt \n",
    "import pandas as pd\n",
    "import spacy as sp"
   ]
  },
  {
   "cell_type": "code",
   "execution_count": 4,
   "metadata": {},
   "outputs": [],
   "source": [
    "from spacy.matcher import PhraseMatcher\n",
    "phrase_matcher = PhraseMatcher(nlp.vocab)"
   ]
  },
  {
   "cell_type": "code",
   "execution_count": 43,
   "metadata": {},
   "outputs": [],
   "source": [
    "phrase_list = [\"truck\", \"roll\", \"truck roll\", \"truckroll\"]"
   ]
  },
  {
   "cell_type": "code",
   "execution_count": 44,
   "metadata": {},
   "outputs": [],
   "source": [
    "patterns = [nlp(text) for text in phrase_list]"
   ]
  },
  {
   "cell_type": "code",
   "execution_count": 45,
   "metadata": {},
   "outputs": [],
   "source": [
    "phrase_matcher.add(\"truck roll\", None, *patterns)"
   ]
  },
  {
   "cell_type": "code",
   "execution_count": 46,
   "metadata": {},
   "outputs": [],
   "source": [
    "matches_found = np.array([])\n",
    "\n",
    "for i in np.arange(0, 620):\n",
    "    matches_found = np.append(matches_found, phrase_matcher( nlp ( new_df[\"description\"][i]) ) )\n",
    "    "
   ]
  },
  {
   "cell_type": "code",
   "execution_count": 47,
   "metadata": {},
   "outputs": [
    {
     "name": "stdout",
     "output_type": "stream",
     "text": [
      "[2.90949856e+18 2.80000000e+01 2.90000000e+01]\n"
     ]
    }
   ],
   "source": [
    "print(matches_found)"
   ]
  },
  {
   "cell_type": "code",
   "execution_count": 3,
   "metadata": {},
   "outputs": [],
   "source": [
    "nlp = sp.load('en_core_web_sm')"
   ]
  },
  {
   "cell_type": "code",
   "execution_count": 21,
   "metadata": {},
   "outputs": [
    {
     "data": {
      "text/html": [
       "<div>\n",
       "<style scoped>\n",
       "    .dataframe tbody tr th:only-of-type {\n",
       "        vertical-align: middle;\n",
       "    }\n",
       "\n",
       "    .dataframe tbody tr th {\n",
       "        vertical-align: top;\n",
       "    }\n",
       "\n",
       "    .dataframe thead th {\n",
       "        text-align: right;\n",
       "    }\n",
       "</style>\n",
       "<table border=\"1\" class=\"dataframe\">\n",
       "  <thead>\n",
       "    <tr style=\"text-align: right;\">\n",
       "      <th></th>\n",
       "      <th>row_number</th>\n",
       "      <th>affected_service</th>\n",
       "      <th>priority</th>\n",
       "      <th>description</th>\n",
       "      <th>title</th>\n",
       "    </tr>\n",
       "  </thead>\n",
       "  <tbody>\n",
       "    <tr>\n",
       "      <th>0</th>\n",
       "      <td>13133</td>\n",
       "      <td>Other</td>\n",
       "      <td>Minor</td>\n",
       "      <td>NTD ODU red. Rebooted in isolation, Still red....</td>\n",
       "      <td>NWAS-OTHER-*ANOM_ID36945*-ANOM_ID5775</td>\n",
       "    </tr>\n",
       "    <tr>\n",
       "      <th>1</th>\n",
       "      <td>17314</td>\n",
       "      <td>Intermittent signal</td>\n",
       "      <td>Minor</td>\n",
       "      <td>EU is reporting slow internet connection.\\r\\nP...</td>\n",
       "      <td>NWAS - Dropouts -*ANOM_ID42107*- ANOM_ID14570</td>\n",
       "    </tr>\n",
       "    <tr>\n",
       "      <th>2</th>\n",
       "      <td>17281</td>\n",
       "      <td>Loss of Signal</td>\n",
       "      <td>Minor</td>\n",
       "      <td>ISSUE:  Red ODU\\r\\n\\r\\nService Address:|Addres...</td>\n",
       "      <td>NWAS -*ANOM_ID5433*-*ANOM_ID13853*</td>\n",
       "    </tr>\n",
       "    <tr>\n",
       "      <th>3</th>\n",
       "      <td>3252</td>\n",
       "      <td>Intermittent signal</td>\n",
       "      <td>Medium</td>\n",
       "      <td>Fault Symptom: Drop Outs\\r\\n\\r\\nHave you check...</td>\n",
       "      <td>NWAS || Intermittent || ANOM_ID47835 || -*ANOM...</td>\n",
       "    </tr>\n",
       "    <tr>\n",
       "      <th>4</th>\n",
       "      <td>10699</td>\n",
       "      <td>Loss of Signal</td>\n",
       "      <td>Minor</td>\n",
       "      <td>EU is unable to connect to the internet.\\r\\nPr...</td>\n",
       "      <td>NWAS||SERVICE LOSS||`ICE LOSS||-*ANOM_ID58216*...</td>\n",
       "    </tr>\n",
       "    <tr>\n",
       "      <th>...</th>\n",
       "      <td>...</td>\n",
       "      <td>...</td>\n",
       "      <td>...</td>\n",
       "      <td>...</td>\n",
       "      <td>...</td>\n",
       "    </tr>\n",
       "    <tr>\n",
       "      <th>19946</th>\n",
       "      <td>13310</td>\n",
       "      <td>Loss of Signal</td>\n",
       "      <td>Minor</td>\n",
       "      <td>EU is unable to connect to the internet.\\r\\nPr...</td>\n",
       "      <td>NWAS NO DATA-*ANOM_ID12423*-ANOM_ID19707</td>\n",
       "    </tr>\n",
       "    <tr>\n",
       "      <th>19947</th>\n",
       "      <td>8840</td>\n",
       "      <td>Loss of Signal</td>\n",
       "      <td>Medium</td>\n",
       "      <td>Test Type - loopback\\r\\nTest Result - Fail\\r\\n...</td>\n",
       "      <td>NWAS No Data - *ANOM_ID35319*-</td>\n",
       "    </tr>\n",
       "    <tr>\n",
       "      <th>19948</th>\n",
       "      <td>12000</td>\n",
       "      <td>Signal degradation</td>\n",
       "      <td>Minor</td>\n",
       "      <td>RG and NTD connected directly.\\r\\nDone reset t...</td>\n",
       "      <td>NWAS SPEED | ANOM_ID12927 |-*ANOM_ID9486*-</td>\n",
       "    </tr>\n",
       "    <tr>\n",
       "      <th>19949</th>\n",
       "      <td>16100</td>\n",
       "      <td>Other</td>\n",
       "      <td>Medium</td>\n",
       "      <td>Test Type - loopback\\r\\nTest Result - Fail\\r\\n...</td>\n",
       "      <td>NWAS-DROP-*ANOM_ID45152*-ANOM_ID22149</td>\n",
       "    </tr>\n",
       "    <tr>\n",
       "      <th>19950</th>\n",
       "      <td>16700</td>\n",
       "      <td>Loss of Signal</td>\n",
       "      <td>Minor</td>\n",
       "      <td>EU is unable to connect to the internet.\\r\\nPr...</td>\n",
       "      <td>NWAS Service loss -*ANOM_ID28741*-ANOM_ID16522</td>\n",
       "    </tr>\n",
       "  </tbody>\n",
       "</table>\n",
       "<p>19951 rows × 5 columns</p>\n",
       "</div>"
      ],
      "text/plain": [
       "       row_number     affected_service priority  \\\n",
       "0           13133                Other    Minor   \n",
       "1           17314  Intermittent signal    Minor   \n",
       "2           17281       Loss of Signal    Minor   \n",
       "3            3252  Intermittent signal   Medium   \n",
       "4           10699       Loss of Signal    Minor   \n",
       "...           ...                  ...      ...   \n",
       "19946       13310       Loss of Signal    Minor   \n",
       "19947        8840       Loss of Signal   Medium   \n",
       "19948       12000   Signal degradation    Minor   \n",
       "19949       16100                Other   Medium   \n",
       "19950       16700       Loss of Signal    Minor   \n",
       "\n",
       "                                             description  \\\n",
       "0      NTD ODU red. Rebooted in isolation, Still red....   \n",
       "1      EU is reporting slow internet connection.\\r\\nP...   \n",
       "2      ISSUE:  Red ODU\\r\\n\\r\\nService Address:|Addres...   \n",
       "3      Fault Symptom: Drop Outs\\r\\n\\r\\nHave you check...   \n",
       "4      EU is unable to connect to the internet.\\r\\nPr...   \n",
       "...                                                  ...   \n",
       "19946  EU is unable to connect to the internet.\\r\\nPr...   \n",
       "19947  Test Type - loopback\\r\\nTest Result - Fail\\r\\n...   \n",
       "19948  RG and NTD connected directly.\\r\\nDone reset t...   \n",
       "19949  Test Type - loopback\\r\\nTest Result - Fail\\r\\n...   \n",
       "19950  EU is unable to connect to the internet.\\r\\nPr...   \n",
       "\n",
       "                                                   title  \n",
       "0                  NWAS-OTHER-*ANOM_ID36945*-ANOM_ID5775  \n",
       "1          NWAS - Dropouts -*ANOM_ID42107*- ANOM_ID14570  \n",
       "2                     NWAS -*ANOM_ID5433*-*ANOM_ID13853*  \n",
       "3      NWAS || Intermittent || ANOM_ID47835 || -*ANOM...  \n",
       "4      NWAS||SERVICE LOSS||`ICE LOSS||-*ANOM_ID58216*...  \n",
       "...                                                  ...  \n",
       "19946           NWAS NO DATA-*ANOM_ID12423*-ANOM_ID19707  \n",
       "19947                     NWAS No Data - *ANOM_ID35319*-  \n",
       "19948         NWAS SPEED | ANOM_ID12927 |-*ANOM_ID9486*-  \n",
       "19949              NWAS-DROP-*ANOM_ID45152*-ANOM_ID22149  \n",
       "19950     NWAS Service loss -*ANOM_ID28741*-ANOM_ID16522  \n",
       "\n",
       "[19951 rows x 5 columns]"
      ]
     },
     "execution_count": 21,
     "metadata": {},
     "output_type": "execute_result"
    }
   ],
   "source": [
    "pd.read_csv(\"UTS_TT_DATA.csv\")"
   ]
  },
  {
   "cell_type": "code",
   "execution_count": 22,
   "metadata": {},
   "outputs": [],
   "source": [
    " df = pd.read_csv(\"UTS_TT_DATA.csv\")"
   ]
  },
  {
   "cell_type": "code",
   "execution_count": 38,
   "metadata": {},
   "outputs": [
    {
     "data": {
      "text/plain": [
       "<function str.format>"
      ]
     },
     "execution_count": 38,
     "metadata": {},
     "output_type": "execute_result"
    }
   ],
   "source": []
  },
  {
   "cell_type": "code",
   "execution_count": 23,
   "metadata": {},
   "outputs": [],
   "source": [
    "new_df = df.copy()"
   ]
  },
  {
   "cell_type": "code",
   "execution_count": null,
   "metadata": {},
   "outputs": [],
   "source": []
  },
  {
   "cell_type": "code",
   "execution_count": 9,
   "metadata": {},
   "outputs": [],
   "source": [
    "from string import *\n",
    "    \n"
   ]
  },
  {
   "cell_type": "code",
   "execution_count": 31,
   "metadata": {},
   "outputs": [],
   "source": [
    "string_list = np.tile(\"                                                                                                                                                                                                                                                                                                                                                                                                                                                                                                                                                                                                                                                                                                                                                                                                                                                                                                                                                                                                                                                                                                                                                                                                                                                                                                                                                                                                                                                                                                                                                                                                                          \", 19951)"
   ]
  },
  {
   "cell_type": "code",
   "execution_count": 32,
   "metadata": {},
   "outputs": [
    {
     "data": {
      "text/plain": [
       "array(['                                                                                                                                                                                                                                                                                                                                                                                                                                                                                                                                                                                                                                                                                                                                                                                                                                                                                                                                                                                                                                                                                                                                                                                                                                                                                                                                                                                                                                                                                                                                                                                                                          ',\n",
       "       '                                                                                                                                                                                                                                                                                                                                                                                                                                                                                                                                                                                                                                                                                                                                                                                                                                                                                                                                                                                                                                                                                                                                                                                                                                                                                                                                                                                                                                                                                                                                                                                                                          ',\n",
       "       '                                                                                                                                                                                                                                                                                                                                                                                                                                                                                                                                                                                                                                                                                                                                                                                                                                                                                                                                                                                                                                                                                                                                                                                                                                                                                                                                                                                                                                                                                                                                                                                                                          ',\n",
       "       ...,\n",
       "       '                                                                                                                                                                                                                                                                                                                                                                                                                                                                                                                                                                                                                                                                                                                                                                                                                                                                                                                                                                                                                                                                                                                                                                                                                                                                                                                                                                                                                                                                                                                                                                                                                          ',\n",
       "       '                                                                                                                                                                                                                                                                                                                                                                                                                                                                                                                                                                                                                                                                                                                                                                                                                                                                                                                                                                                                                                                                                                                                                                                                                                                                                                                                                                                                                                                                                                                                                                                                                          ',\n",
       "       '                                                                                                                                                                                                                                                                                                                                                                                                                                                                                                                                                                                                                                                                                                                                                                                                                                                                                                                                                                                                                                                                                                                                                                                                                                                                                                                                                                                                                                                                                                                                                                                                                          '],\n",
       "      dtype='<U1562')"
      ]
     },
     "execution_count": 32,
     "metadata": {},
     "output_type": "execute_result"
    }
   ],
   "source": [
    "string_list"
   ]
  },
  {
   "cell_type": "code",
   "execution_count": 24,
   "metadata": {},
   "outputs": [
    {
     "data": {
      "text/plain": [
       "19951"
      ]
     },
     "execution_count": 24,
     "metadata": {},
     "output_type": "execute_result"
    }
   ],
   "source": [
    "np.size(string_list)"
   ]
  },
  {
   "cell_type": "code",
   "execution_count": 78,
   "metadata": {},
   "outputs": [],
   "source": [
    "for i in np.arange(0, 19951):\n",
    "    string_list[i] = df[\"description\"][i]\n",
    "    "
   ]
  },
  {
   "cell_type": "code",
   "execution_count": 79,
   "metadata": {},
   "outputs": [
    {
     "data": {
      "text/plain": [
       "array([\"NTD ODU red. Rebooted in isolation, Still red.\\r\\n\\r\\n======================\\r\\n0) Support Template: 01 - Connection Issue\\r\\n1) Contract: 50069995\\r\\n2) Select Connection Issue Type: No Connection / Cannot browse at all\\r\\n3) Is there a current session in Eclipse?: No, there's no current session\\r\\n4) Is customer experiencing dropouts or no connection?: No Connection\\r\\n5) Is service activated?: yes\\r\\n6) Is service suspended?: no\\r\\n7) Which service has no connection?: NBN Fixed Wireless\\r\\n8) NTD Lights: Power Green, Status Green, ODU Red, Signal Red\\r\\n9) Confirm ethernet ODU cable is secure to WNTD and wall: Yes, ODU cable securely connected\\r\\n10) Reboot Wireless NTD: Rebooted CPE and SNTD\\r\\n11) Has the connection ever worked?: yes\\r\\n12) Timestamp connection was lost: 05/02/2020 4:59\\r\\n13) Are there any active CRQ or network incidents?: no\\r\\n14) Are there any active PRI modifies?: no\\r\\n15) Does the antenna have clear LOS?: LOS is clear\\r\\n16) Confirm Wireless NTD ID: ANOM_ID5775\\r\\n17) Select Supplier: NBN\\r\\n======================\\r\\n\\r\\nOpen orders - none\\r\\n\\r\\nFault Type - No data connection/red optical\\r\\n\\r\\n##DIAGNOSTIC QUESTIONS##\\r\\nPower Status - Green\\r\\nPower Behaviour - Solid\\r\\nLED Status - Green\\r\\nLED Behaviour - Flashing\\r\\nODU Status - Red\\r\\nODU Behaviour - Solid\\r\\nSignal Strengths Status - Red\\r\\nPorts being used - D1\\r\\nNTD Serial Number - ANOM_ID5775\\r\\nWhat CPE Is Connected? - Router\\r\\nWhat is the CPE MAC address? - |MAC Removed|\\r\\nHas the CPE been powercycled? - Yes\\r\\nHas an alternate CPE been tested? - Yes\\r\\nHas an isolation test been run? - No\\r\\nAny active incidents at time of\",\n",
       "       'EU is reporting slow internet connection.\\r\\nProvisioning between NBN and Optus has been checked and no issues found.\\r\\nOptus systems are showing no sync.\\r\\nEU has reported visible no damage to NBN equipment.\\r\\nEU has replaced Ethernet cable between WNTD and RG.\\r\\nEU has tested using an Ethernet device connected directly to the WNTD and experienced fault.\\r\\n\\r\\nPlease investigate.\\r\\n\\r\\nOpen orders - none\\r\\n\\r\\nFault Type - Intermittent service/dropouts\\r\\n\\r\\n##DIAGNOSTIC QUESTIONS##\\r\\nHas an isolation test been run? - Yes\\r\\nAny active incidents at time of fault? - No\\r\\nPower Status - Answer not provided\\r\\nPower Behaviour - Answer not provided\\r\\nLED Status - Answer not provided\\r\\nLED Behaviour - Answer not provided\\r\\nODU Status - Answer not provided\\r\\nODU Behaviour - Answer not provided\\r\\nUNI-D Status - Answer not provided\\r\\nUNI-D Behaviour - Answer not provided\\r\\nSignal Strengths Status - Answer not provided\\r\\nPorts being used - Answer not provided\\r\\nNTD Serial Number - Answer not provided\\r\\nWhat CPE Is Connected? - Answer not provided\\r\\nWhat is the CPE MAC address? - Answer not provided\\r\\nHas the CPE been powercycled? - Answer not provided\\r\\nHas an alternate CPE been tested? - Answer not provided\\r\\n\\r\\n##TEST RESULTS##\\r\\n#TEST RESULT# :1\\r\\nTest ID - ANOM_ID57221\\r\\nTest Type - Loopback test\\r\\nTest Result - Passed',\n",
       "       'ISSUE:  Red ODU\\r\\n\\r\\nService Address:|Address Removed|\\r\\nContact Number:|Phone# Removed|\\r\\n\\r\\nService Location ID: ANOM_ID47460\\r\\nService Bandwidth/Traffic (Plan Speed): FWPlus\\r\\nS Tag: \\r\\nc Tag: 3508\\r\\n\\r\\nAssigned Port/ UNID: 1\\r\\nUNID ON or OFF?: ON\\r\\nNTD SERIAL NUMBER\\r\\n\\r\\nAdditional note: (TS)\\r\\nrestart nbn fixed wireless box\\r\\nstill getting red odu\\r\\n\\r\\nOpen orders - none\\r\\n\\r\\nFault Type - No data connection/red optical\\r\\n\\r\\n##DIAGNOSTIC QUESTIONS##\\r\\nPower Status - Green\\r\\nLED Status - Amber\\r\\nODU Status - Red\\r\\nUNI-D Status - Amber\\r\\nSignal Strengths Status - Red\\r\\nPorts being used - D1\\r\\nWhat CPE Is Connected? - Huawei HG659\\r\\nWhat is the CPE MAC address? - 5CA86A1353DA\\r\\nHas the CPE been powercycled? - Yes\\r\\nHas an alternate CPE been tested? - No\\r\\nHas an isolation test been run? - Yes\\r\\nAny active incidents at time of fault? - Yes\\r\\nPower Behaviour - Answer not provided\\r\\nLED Behaviour - Answer not provided\\r\\nODU Behaviour - Answer not provided\\r\\nUNI-D Behaviour - Answer not provided\\r\\nNTD Serial Number - Answer not provided\\r\\n\\r\\n##TEST RESULTS##\\r\\n#TEST RESULT# :1\\r\\nTest ID - ANOM_ID5685\\r\\nTest Type - Loopback test\\r\\nTest Result - Failed\\r\\n\\r\\n#TEST RESULT# :2\\r\\nTest ID - ANOM_ID27920\\r\\nTest Type - Loopback test\\r\\nTest Result - Failed\\r\\n\\r\\n#TEST RESULT# :3\\r\\nTest ID - ANOM_ID2100\\r\\nTest Type - Loopback test\\r\\nTest Result - Failed',\n",
       "       ...,\n",
       "       'RG and NTD connected directly.\\r\\nDone reset the NTD and RG.\\r\\nDone speed test\\r\\nDow-5mbps\\r\\nup-2mbps\\r\\nDone isolation test \\r\\nDow-5mbps\\r\\nSlow speed \\r\\nKindly check.\\r\\n\\r\\nOpen orders - none\\r\\n\\r\\nFault Type - Performance latency\\r\\n\\r\\n##DIAGNOSTIC QUESTIONS##\\r\\nPower Status - Green\\r\\nPower Behaviour - Solid\\r\\nLED Status - Green\\r\\nLED Behaviour - Solid\\r\\nODU Status - Green\\r\\nODU Behaviour - Flashing\\r\\nUNI-D Status - Amber\\r\\nUNI-D Behaviour - Solid\\r\\nSignal Strengths Status - Amber\\r\\nPorts being used - D1\\r\\nWhat CPE Is Connected? - Sagemcom\\r\\nWhat is the CPE MAC address? - |MAC Removed|\\r\\nHas the CPE been powercycled? - Yes\\r\\nHas an alternate CPE been tested? - Yes\\r\\nHas an isolation test been run? - Yes\\r\\nAny active incidents at time of fault? - No\\r\\nNTD Serial Number - Answer not provided\\r\\n\\r\\n##TEST RESULTS##\\r\\n#TEST RESULT# :1\\r\\nTest ID - ANOM_ID39861\\r\\nTest Type - Loopback test\\r\\nTest Result - Passed',\n",
       "       'Test Type - loopback\\r\\nTest Result - Fail\\r\\nTest ID - ANOM_ID27173\\r\\n\\r\\nSymptom - Loss of Connection/Intermittent Problems\\r\\n\\r\\nLED Status : Power : Is Eco Light Off on the modem? - N/A\\r\\n\\r\\nLED Status : Power : Is the status light off on the modem? - N/A\\r\\n\\r\\nLED Status : Power : Is the power light off on the modem? - N/A\\r\\n\\r\\nLED Status : DSL/Sync : Is the WAN light off on the modem? - N/A\\r\\n\\r\\nLED Status : DSL/Sync : Is the Link light off on the modem? - N/A\\r\\n\\r\\nHas the CPE been powercycled? - N/A\\r\\n\\r\\nHas an alternate CPE been tested? - N/A\\r\\n\\r\\nHas an isolation test been run? - N/A\\r\\n\\r\\nAlternate phone cable tested? - N/A',\n",
       "       'EU is unable to connect to the internet.\\r\\nProvisioning between NBN and Optus has been checked and no issues found.\\r\\nOptus systems are showing no sync.\\r\\nEU has reported no visible damage to NBN equipment. Loopback test is failing.\\r\\nWNTD signal light is showing poor signal.\\r\\n\\r\\nPlease investigate.\\r\\n\\r\\nOpen orders - none\\r\\n\\r\\nFault Type - No data connection/red optical\\r\\n\\r\\n##DIAGNOSTIC QUESTIONS##\\r\\nHas an isolation test been run? - Yes\\r\\nAny active incidents at time of fault? - No\\r\\n\\r\\n##TEST RESULTS##\\r\\n#TEST RESULT# :1\\r\\nTest ID - ANOM_ID3866\\r\\nTest Type - Loopback test\\r\\nTest Result - Failed'],\n",
       "      dtype='<U1562')"
      ]
     },
     "execution_count": 79,
     "metadata": {},
     "output_type": "execute_result"
    }
   ],
   "source": [
    "string_list"
   ]
  },
  {
   "cell_type": "code",
   "execution_count": 30,
   "metadata": {},
   "outputs": [
    {
     "data": {
      "text/plain": [
       "\"NTD ODU red. Rebooted in isolation, Still red.\\r\\n\\r\\n======================\\r\\n0) Support Template: 01 - Connection Issue\\r\\n1) Contract: 50069995\\r\\n2) Select Connection Issue Type: No Connection / Cannot browse at all\\r\\n3) Is there a current session in Eclipse?: No, there's no current session\\r\\n4) Is customer experiencing dropouts or no connection?: No Connection\\r\\n5) Is service activated?: yes\\r\\n6) Is service suspended?: no\\r\\n7) Which service has no connection?: NBN Fixed Wireless\\r\\n8) NTD Lights: Power Green, Status Green, ODU Red, Signal Red\\r\\n9) Confirm ethernet ODU cable is secure to WNTD and wall: Yes, ODU cable securely connected\\r\\n10) Reboot Wireless NTD: Rebooted CPE and SNTD\\r\\n11) Has the connection ever worked?: yes\\r\\n12) Timestamp connection was lost: 05/02/2020 4:59\\r\\n13) Are there any active CRQ or network incidents?: no\\r\\n14) Are there any active PRI modifies?: no\\r\\n15) Does the antenna have clea\""
      ]
     },
     "execution_count": 30,
     "metadata": {},
     "output_type": "execute_result"
    }
   ],
   "source": [
    "string_list[0]"
   ]
  },
  {
   "cell_type": "code",
   "execution_count": 54,
   "metadata": {},
   "outputs": [
    {
     "data": {
      "text/plain": [
       "16250"
      ]
     },
     "execution_count": 54,
     "metadata": {},
     "output_type": "execute_result"
    }
   ],
   "source": [
    "np.argmax(string_length)"
   ]
  },
  {
   "cell_type": "code",
   "execution_count": 47,
   "metadata": {},
   "outputs": [],
   "source": [
    "string_length = np.array([])\n",
    "\n",
    "for i in np.arange(0, 19951):\n",
    "    string_length = np.append(string_length, len(new_df[\"description\"][i]) )"
   ]
  },
  {
   "cell_type": "code",
   "execution_count": 56,
   "metadata": {},
   "outputs": [],
   "source": [
    "max_string_length = 0\n",
    "index = 0\n",
    "\n",
    "for i in np.arange(0, 19951):\n",
    "    if len(new_df[\"description\"][i]) > max_string_length:\n",
    "        max_string_length = len(new_df[\"description\"][i])\n",
    "        index = i\n",
    "    \n"
   ]
  },
  {
   "cell_type": "code",
   "execution_count": 58,
   "metadata": {},
   "outputs": [
    {
     "name": "stdout",
     "output_type": "stream",
     "text": [
      "16250\n"
     ]
    }
   ],
   "source": [
    "print(index)"
   ]
  },
  {
   "cell_type": "code",
   "execution_count": 59,
   "metadata": {},
   "outputs": [
    {
     "data": {
      "text/plain": [
       "4366.0"
      ]
     },
     "execution_count": 59,
     "metadata": {},
     "output_type": "execute_result"
    }
   ],
   "source": [
    "string_length[16250]"
   ]
  },
  {
   "cell_type": "code",
   "execution_count": 44,
   "metadata": {},
   "outputs": [
    {
     "name": "stdout",
     "output_type": "stream",
     "text": [
      "4366\n"
     ]
    }
   ],
   "source": [
    "print(max_string_length)"
   ]
  },
  {
   "cell_type": "code",
   "execution_count": 60,
   "metadata": {},
   "outputs": [],
   "source": [
    "x = np.arange(0, 19951)"
   ]
  },
  {
   "cell_type": "code",
   "execution_count": 69,
   "metadata": {},
   "outputs": [
    {
     "data": {
      "image/png": "[encoded data removed]",
      "text/plain": [
       "<Figure size 432x288 with 1 Axes>"
      ]
     },
     "metadata": {
      "needs_background": "light"
     },
     "output_type": "display_data"
    }
   ],
   "source": [
    "plt.hist(string_length)\n",
    "plt.show()"
   ]
  },
  {
   "cell_type": "code",
   "execution_count": 64,
   "metadata": {},
   "outputs": [
    {
     "data": {
      "text/plain": [
       "824.6758057240238"
      ]
     },
     "execution_count": 64,
     "metadata": {},
     "output_type": "execute_result"
    }
   ],
   "source": [
    "np.mean(string_length)"
   ]
  },
  {
   "cell_type": "code",
   "execution_count": 65,
   "metadata": {},
   "outputs": [
    {
     "data": {
      "text/plain": [
       "3108"
      ]
     },
     "execution_count": 65,
     "metadata": {},
     "output_type": "execute_result"
    }
   ],
   "source": [
    "np.argmin(string_length)"
   ]
  },
  {
   "cell_type": "code",
   "execution_count": 66,
   "metadata": {},
   "outputs": [
    {
     "data": {
      "text/plain": [
       "15.0"
      ]
     },
     "execution_count": 66,
     "metadata": {},
     "output_type": "execute_result"
    }
   ],
   "source": [
    "string_length[3108]"
   ]
  },
  {
   "cell_type": "code",
   "execution_count": 70,
   "metadata": {},
   "outputs": [
    {
     "data": {
      "text/plain": [
       "'loopback-failed'"
      ]
     },
     "execution_count": 70,
     "metadata": {},
     "output_type": "execute_result"
    }
   ],
   "source": [
    "new_df[\"description\"][3108]"
   ]
  },
  {
   "cell_type": "code",
   "execution_count": 71,
   "metadata": {},
   "outputs": [
    {
     "data": {
      "text/plain": [
       "'Hi Team, \\r\\n\\r\\nThe CX has had constant speed issues with his service. There has been multiple tickets raised while also a complaint open; which was closed. \\r\\n\\r\\nBelow are the results provided:\\r\\n\\r\\n1. Ping\\r\\n2. Trace Route\\r\\n3. Speed Tests \\r\\n\\r\\n=======================================\\r\\nMicrosoft Windows [Version 10.0.17763.805]\\r\\n(c) 2018 Microsoft Corporation. All rights reserved.\\r\\n\\r\\nC:\\\\Users\\\\user>ping -n 50 |IP Removed|\\r\\n\\r\\nPinging |IP Removed| with 32 bytes of data:\\r\\nReply from |IP Removed|: bytes=32 time=74ms TTL=56\\r\\nReply from |IP Removed|: bytes=32 time=72ms TTL=56\\r\\nReply from |IP Removed|: bytes=32 time=64ms TTL=56\\r\\nReply from |IP Removed|: bytes=32 time=69ms TTL=56\\r\\nReply from |IP Removed|: bytes=32 time=73ms TTL=56\\r\\nReply from |IP Removed|: bytes=32 time=83ms TTL=56\\r\\nReply from |IP Removed|: bytes=32 time=62ms TTL=56\\r\\nReply from |IP Removed|: bytes=32 time=69ms TTL=56\\r\\nReply from |IP Removed|: bytes=32 time=70ms TTL=56\\r\\nReply from |IP Removed|: bytes=32 time=74ms TTL=56\\r\\nReply from |IP Removed|: bytes=32 time=69ms TTL=56\\r\\nReply from |IP Removed|: bytes=32 time=58ms TTL=56\\r\\nReply from |IP Removed|: bytes=32 time=70ms TTL=56\\r\\nReply from |IP Removed|: bytes=32 time=69ms TTL=56\\r\\nReply from |IP Removed|: bytes=32 time=63ms TTL=56\\r\\nRequest timed out.\\r\\nReply from |IP Removed|: bytes=32 time=67ms TTL=56\\r\\nReply from |IP Removed|: bytes=32 time=57ms TTL=56\\r\\nReply from |IP Removed|: bytes=32 time=67ms TTL=56\\r\\nReply from |IP Removed|: bytes=32 time=67ms TTL=56\\r\\nReply from |IP Removed|: bytes=32 time=70ms TTL=56\\r\\nReply from |IP Removed|: bytes=32 time=68ms TTL=56\\r\\nReply from |IP Removed|: bytes=32 time=72ms TTL=56\\r\\nReply from |IP Removed|: bytes=32 time=73ms TTL=56\\r\\nReply from |IP Removed|: bytes=32 time=77ms TTL=56\\r\\nReply from |IP Removed|: bytes=32 time=69ms TTL=56\\r\\nReply from |IP Removed|: bytes=32 time=70ms TTL=56\\r\\nReply from |IP Removed|: bytes=32 time=70ms TTL=56\\r\\nReply from |IP Removed|: bytes=32 time=76ms TTL=56\\r\\nReply from |IP Removed|: bytes=32 time=65ms TTL=56\\r\\nReply from |IP Removed|: bytes=32 time=73ms TTL=56\\r\\nReply from |IP Removed|: bytes=32 time=68ms TTL=56\\r\\nReply from |IP Removed|: bytes=32 time=51ms TTL=56\\r\\nReply from |IP Removed|: bytes=32 time=72ms TTL=56\\r\\nReply from |IP Removed|: bytes=32 time=70ms TTL=56\\r\\nReply from |IP Removed|: bytes=32 time=65ms TTL=56\\r\\nReply from |IP Removed|: bytes=32 time=68ms TTL=56\\r\\nReply from |IP Removed|: bytes=32 time=74ms TTL=56\\r\\nReply from |IP Removed|: bytes=32 time=65ms TTL=56\\r\\nReply from |IP Removed|: bytes=32 time=77ms TTL=56\\r\\nReply from |IP Removed|: bytes=32 time=74ms TTL=56\\r\\nReply from |IP Removed|: bytes=32 time=75ms TTL=56\\r\\nReply from |IP Removed|: bytes=32 time=71ms TTL=56\\r\\nReply from |IP Removed|: bytes=32 time=68ms TTL=56\\r\\nReply from |IP Removed|: bytes=32 time=65ms TTL=56\\r\\nReply from |IP Removed|: bytes=32 time=75ms TTL=56\\r\\nReply from |IP Removed|: bytes=32 time=66ms TTL=56\\r\\nReply from |IP Removed|: bytes=32 time=68ms TTL=56\\r\\nReply from |IP Removed|: bytes=32 time=69ms TTL=56\\r\\nReply from |IP Removed|: bytes=32 time=69ms TTL=56\\r\\n\\r\\nPing statistics for |IP Removed|:\\r\\n    Packets: Sent = 50, Received = 49, Lost = 1 (2% loss),\\r\\nApproximate round trip times in milli-seconds:\\r\\n    Minimum = 51ms, Maximum = 83ms, Average = 69ms\\r\\n=======================================\\r\\n\\r\\n=======================================\\r\\nC:\\\\Users\\\\user>tracert |IP Removed|\\r\\n\\r\\nTracing route to dns.google [|IP Removed|]\\r\\nover a maximum of 30 hops:\\r\\n\\r\\n  1    61 ms    60 ms    70 ms |Phone# Removed|-2.pool.activ8me.net.au [|IP Removed|]\\r\\n  2    70 ms   156 ms    71 ms  |IP Removed|\\r\\n  3    69 ms    59 ms    57 ms  |IP Removed|\\r\\n  4    69 ms    70 ms    64 ms  |IP Removed|\\r\\n  5    70 ms    66 ms    61 ms  |IP Removed|\\r\\n  6    70 ms    65 ms     *     |IP Removed|\\r\\n  7    67 ms    57 ms    60 ms  |IP Removed|\\r\\n  8    71 ms    65 ms    65 ms  dns.google [|IP Removed|]\\r\\n\\r\\nTrace complete.\\r\\n=======================================\\r\\n\\r\\n=======================================\\r\\nhttps://activ8me.speedtestcustom.com/result/69417580-ec05-11e9-9709-51e6c648c26d\\r\\nhttps://activ8me.speedtestcustom.com/result/c6e30870-ec05-11e9-9709-51e6c648c26d\\r\\nhttps://activ8me.speedtestcustom.com/result/04e0efc0-ec06-11e9-9709-51e6c648c26d\\r\\nhttps://activ8me.speedtestcustom.com/result/2da2e580-ec06-11e9-9709-51e6c648c26d\\r\\nhttps://activ8me.speedtestcustom.com/result/5894b390-ec06-11e9-9709-51e6c648c26d\\r\\nhttps:'"
      ]
     },
     "execution_count": 71,
     "metadata": {},
     "output_type": "execute_result"
    }
   ],
   "source": [
    "new_df[\"description\"][16250]"
   ]
  },
  {
   "cell_type": "code",
   "execution_count": null,
   "metadata": {},
   "outputs": [],
   "source": []
  }
 ],
 "metadata": {
  "kernelspec": {
   "display_name": "Python 3",
   "language": "python",
   "name": "python3"
  },
  "language_info": {
   "codemirror_mode": {
    "name": "ipython",
    "version": 3
   },
   "file_extension": ".py",
   "mimetype": "text/x-python",
   "name": "python",
   "nbconvert_exporter": "python",
   "pygments_lexer": "ipython3",
   "version": "3.7.4"
  }
 },
 "nbformat": 4,
 "nbformat_minor": 4
}
