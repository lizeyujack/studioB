{
 "cells": [
  {
   "cell_type": "markdown",
   "metadata": {},
   "source": [
    "## CREATING A BOW"
   ]
  },
  {
   "cell_type": "code",
   "execution_count": 1,
   "metadata": {},
   "outputs": [],
   "source": [
    "import pandas as pd\n",
    "from sklearn.feature_extraction.text import CountVectorizer"
   ]
  },
  {
   "cell_type": "code",
   "execution_count": 2,
   "metadata": {},
   "outputs": [],
   "source": [
    "corpus = [\n",
    "    'Data Science is an overlap between Arts and Science',\n",
    "    'Generally,Arts graduates are right-brained and Science graduates are left-brained',\n",
    "    'Excelling in both Arts and Science at a time becomes difficult',\n",
    "    'Natural Language Processing is a part of Data Science'\n",
    "    ]"
   ]
  },
  {
   "cell_type": "code",
   "execution_count": 3,
   "metadata": {},
   "outputs": [
    {
     "name": "stdout",
     "output_type": "stream",
     "text": [
      "[[1 1 0 1 0 0 1 0 0 1 0 0 0 0 0 1 0 0 0 0 1 0 0 0 2 0]\n",
      " [0 1 2 1 0 0 0 0 2 0 0 0 1 2 0 0 0 1 0 0 0 0 0 1 1 0]\n",
      " [0 1 0 1 1 1 0 1 0 0 1 1 0 0 1 0 0 0 0 0 0 0 0 0 1 1]\n",
      " [0 0 0 0 0 0 0 0 0 1 0 0 0 0 0 1 1 0 1 1 0 1 1 0 1 0]]\n"
     ]
    }
   ],
   "source": [
    "#CountVectorizer create the BoW model\n",
    "bag_of_words_model = CountVectorizer()\n",
    "print(bag_of_words_model.fit_transform(corpus).todense())"
   ]
  },
  {
   "cell_type": "code",
   "execution_count": 4,
   "metadata": {},
   "outputs": [],
   "source": [
    "bag_of_word_df = pd.DataFrame(bag_of_words_model.fit_transform(corpus).todense())"
   ]
  },
  {
   "cell_type": "code",
   "execution_count": 5,
   "metadata": {},
   "outputs": [
    {
     "data": {
      "text/html": [
       "<div>\n",
       "<style scoped>\n",
       "    .dataframe tbody tr th:only-of-type {\n",
       "        vertical-align: middle;\n",
       "    }\n",
       "\n",
       "    .dataframe tbody tr th {\n",
       "        vertical-align: top;\n",
       "    }\n",
       "\n",
       "    .dataframe thead th {\n",
       "        text-align: right;\n",
       "    }\n",
       "</style>\n",
       "<table border=\"1\" class=\"dataframe\">\n",
       "  <thead>\n",
       "    <tr style=\"text-align: right;\">\n",
       "      <th></th>\n",
       "      <th>an</th>\n",
       "      <th>and</th>\n",
       "      <th>are</th>\n",
       "      <th>arts</th>\n",
       "      <th>at</th>\n",
       "      <th>becomes</th>\n",
       "      <th>between</th>\n",
       "      <th>both</th>\n",
       "      <th>brained</th>\n",
       "      <th>data</th>\n",
       "      <th>...</th>\n",
       "      <th>language</th>\n",
       "      <th>left</th>\n",
       "      <th>natural</th>\n",
       "      <th>of</th>\n",
       "      <th>overlap</th>\n",
       "      <th>part</th>\n",
       "      <th>processing</th>\n",
       "      <th>right</th>\n",
       "      <th>science</th>\n",
       "      <th>time</th>\n",
       "    </tr>\n",
       "  </thead>\n",
       "  <tbody>\n",
       "    <tr>\n",
       "      <th>0</th>\n",
       "      <td>1</td>\n",
       "      <td>1</td>\n",
       "      <td>0</td>\n",
       "      <td>1</td>\n",
       "      <td>0</td>\n",
       "      <td>0</td>\n",
       "      <td>1</td>\n",
       "      <td>0</td>\n",
       "      <td>0</td>\n",
       "      <td>1</td>\n",
       "      <td>...</td>\n",
       "      <td>0</td>\n",
       "      <td>0</td>\n",
       "      <td>0</td>\n",
       "      <td>0</td>\n",
       "      <td>1</td>\n",
       "      <td>0</td>\n",
       "      <td>0</td>\n",
       "      <td>0</td>\n",
       "      <td>2</td>\n",
       "      <td>0</td>\n",
       "    </tr>\n",
       "    <tr>\n",
       "      <th>1</th>\n",
       "      <td>0</td>\n",
       "      <td>1</td>\n",
       "      <td>2</td>\n",
       "      <td>1</td>\n",
       "      <td>0</td>\n",
       "      <td>0</td>\n",
       "      <td>0</td>\n",
       "      <td>0</td>\n",
       "      <td>2</td>\n",
       "      <td>0</td>\n",
       "      <td>...</td>\n",
       "      <td>0</td>\n",
       "      <td>1</td>\n",
       "      <td>0</td>\n",
       "      <td>0</td>\n",
       "      <td>0</td>\n",
       "      <td>0</td>\n",
       "      <td>0</td>\n",
       "      <td>1</td>\n",
       "      <td>1</td>\n",
       "      <td>0</td>\n",
       "    </tr>\n",
       "    <tr>\n",
       "      <th>2</th>\n",
       "      <td>0</td>\n",
       "      <td>1</td>\n",
       "      <td>0</td>\n",
       "      <td>1</td>\n",
       "      <td>1</td>\n",
       "      <td>1</td>\n",
       "      <td>0</td>\n",
       "      <td>1</td>\n",
       "      <td>0</td>\n",
       "      <td>0</td>\n",
       "      <td>...</td>\n",
       "      <td>0</td>\n",
       "      <td>0</td>\n",
       "      <td>0</td>\n",
       "      <td>0</td>\n",
       "      <td>0</td>\n",
       "      <td>0</td>\n",
       "      <td>0</td>\n",
       "      <td>0</td>\n",
       "      <td>1</td>\n",
       "      <td>1</td>\n",
       "    </tr>\n",
       "    <tr>\n",
       "      <th>3</th>\n",
       "      <td>0</td>\n",
       "      <td>0</td>\n",
       "      <td>0</td>\n",
       "      <td>0</td>\n",
       "      <td>0</td>\n",
       "      <td>0</td>\n",
       "      <td>0</td>\n",
       "      <td>0</td>\n",
       "      <td>0</td>\n",
       "      <td>1</td>\n",
       "      <td>...</td>\n",
       "      <td>1</td>\n",
       "      <td>0</td>\n",
       "      <td>1</td>\n",
       "      <td>1</td>\n",
       "      <td>0</td>\n",
       "      <td>1</td>\n",
       "      <td>1</td>\n",
       "      <td>0</td>\n",
       "      <td>1</td>\n",
       "      <td>0</td>\n",
       "    </tr>\n",
       "  </tbody>\n",
       "</table>\n",
       "<p>4 rows × 26 columns</p>\n",
       "</div>"
      ],
      "text/plain": [
       "   an  and  are  arts  at  becomes  between  both  brained  data  ...  \\\n",
       "0   1    1    0     1   0        0        1     0        0     1  ...   \n",
       "1   0    1    2     1   0        0        0     0        2     0  ...   \n",
       "2   0    1    0     1   1        1        0     1        0     0  ...   \n",
       "3   0    0    0     0   0        0        0     0        0     1  ...   \n",
       "\n",
       "   language  left  natural  of  overlap  part  processing  right  science  \\\n",
       "0         0     0        0   0        1     0           0      0        2   \n",
       "1         0     1        0   0        0     0           0      1        1   \n",
       "2         0     0        0   0        0     0           0      0        1   \n",
       "3         1     0        1   1        0     1           1      0        1   \n",
       "\n",
       "   time  \n",
       "0     0  \n",
       "1     0  \n",
       "2     1  \n",
       "3     0  \n",
       "\n",
       "[4 rows x 26 columns]"
      ]
     },
     "execution_count": 5,
     "metadata": {},
     "output_type": "execute_result"
    }
   ],
   "source": [
    "bag_of_word_df.columns = sorted(bag_of_words_model.vocabulary_)\n",
    "bag_of_word_df.head()"
   ]
  },
  {
   "cell_type": "code",
   "execution_count": 6,
   "metadata": {},
   "outputs": [],
   "source": [
    "#10 most frequent terms\n",
    "bag_of_words_model_small = CountVectorizer(max_features = 10)\n",
    "bag_of_word_df_small = pd.DataFrame(bag_of_words_model_small.fit_transform(corpus).todense())"
   ]
  },
  {
   "cell_type": "code",
   "execution_count": 7,
   "metadata": {},
   "outputs": [
    {
     "data": {
      "text/html": [
       "<div>\n",
       "<style scoped>\n",
       "    .dataframe tbody tr th:only-of-type {\n",
       "        vertical-align: middle;\n",
       "    }\n",
       "\n",
       "    .dataframe tbody tr th {\n",
       "        vertical-align: top;\n",
       "    }\n",
       "\n",
       "    .dataframe thead th {\n",
       "        text-align: right;\n",
       "    }\n",
       "</style>\n",
       "<table border=\"1\" class=\"dataframe\">\n",
       "  <thead>\n",
       "    <tr style=\"text-align: right;\">\n",
       "      <th></th>\n",
       "      <th>an</th>\n",
       "      <th>and</th>\n",
       "      <th>are</th>\n",
       "      <th>arts</th>\n",
       "      <th>brained</th>\n",
       "      <th>data</th>\n",
       "      <th>graduates</th>\n",
       "      <th>is</th>\n",
       "      <th>right</th>\n",
       "      <th>science</th>\n",
       "    </tr>\n",
       "  </thead>\n",
       "  <tbody>\n",
       "    <tr>\n",
       "      <th>0</th>\n",
       "      <td>1</td>\n",
       "      <td>1</td>\n",
       "      <td>0</td>\n",
       "      <td>1</td>\n",
       "      <td>0</td>\n",
       "      <td>1</td>\n",
       "      <td>0</td>\n",
       "      <td>1</td>\n",
       "      <td>0</td>\n",
       "      <td>2</td>\n",
       "    </tr>\n",
       "    <tr>\n",
       "      <th>1</th>\n",
       "      <td>0</td>\n",
       "      <td>1</td>\n",
       "      <td>2</td>\n",
       "      <td>1</td>\n",
       "      <td>2</td>\n",
       "      <td>0</td>\n",
       "      <td>2</td>\n",
       "      <td>0</td>\n",
       "      <td>1</td>\n",
       "      <td>1</td>\n",
       "    </tr>\n",
       "    <tr>\n",
       "      <th>2</th>\n",
       "      <td>0</td>\n",
       "      <td>1</td>\n",
       "      <td>0</td>\n",
       "      <td>1</td>\n",
       "      <td>0</td>\n",
       "      <td>0</td>\n",
       "      <td>0</td>\n",
       "      <td>0</td>\n",
       "      <td>0</td>\n",
       "      <td>1</td>\n",
       "    </tr>\n",
       "    <tr>\n",
       "      <th>3</th>\n",
       "      <td>0</td>\n",
       "      <td>0</td>\n",
       "      <td>0</td>\n",
       "      <td>0</td>\n",
       "      <td>0</td>\n",
       "      <td>1</td>\n",
       "      <td>0</td>\n",
       "      <td>1</td>\n",
       "      <td>0</td>\n",
       "      <td>1</td>\n",
       "    </tr>\n",
       "  </tbody>\n",
       "</table>\n",
       "</div>"
      ],
      "text/plain": [
       "   an  and  are  arts  brained  data  graduates  is  right  science\n",
       "0   1    1    0     1        0     1          0   1      0        2\n",
       "1   0    1    2     1        2     0          2   0      1        1\n",
       "2   0    1    0     1        0     0          0   0      0        1\n",
       "3   0    0    0     0        0     1          0   1      0        1"
      ]
     },
     "execution_count": 7,
     "metadata": {},
     "output_type": "execute_result"
    }
   ],
   "source": [
    "bag_of_word_df_small.columns = sorted(bag_of_words_model_small.vocabulary_)\n",
    "bag_of_word_df_small.head()"
   ]
  },
  {
   "cell_type": "code",
   "execution_count": 12,
   "metadata": {},
   "outputs": [
    {
     "name": "stderr",
     "output_type": "stream",
     "text": [
      "[nltk_data] Downloading package stopwords to\n",
      "[nltk_data]     C:\\Users\\lizey\\AppData\\Roaming\\nltk_data...\n",
      "[nltk_data]   Package stopwords is already up-to-date!\n"
     ]
    }
   ],
   "source": [
    "# zip's law\n",
    "from pylab import *\n",
    "import nltk\n",
    "nltk.download('stopwords')\n",
    "from sklearn.datasets import fetch_20newsgroups\n",
    "from nltk import word_tokenize\n",
    "from nltk.corpus import stopwords\n",
    "import matplotlib.pyplot as plt\n",
    "%matplotlib inline\n",
    "import re\n",
    "import string\n",
    "from collections import Counter\n",
    "newsgroups_data_sample = fetch_20newsgroups(subset ='train')"
   ]
  },
  {
   "cell_type": "code",
   "execution_count": 13,
   "metadata": {},
   "outputs": [],
   "source": [
    "stop_words = stopwords.words('english')\n",
    "stop_words = stop_words +list(string.printable)"
   ]
  },
  {
   "cell_type": "code",
   "execution_count": 14,
   "metadata": {},
   "outputs": [],
   "source": [
    "tokenized_corpus = [word.lower() for sentence in df['description'] \\\n",
    "                    for word in word_tokenize(re.sub(r'([^\\s\\w]|_)+', ' ', sentence)) \\\n",
    "                    if word.lower() not in stop_words]"
   ]
  },
  {
   "cell_type": "code",
   "execution_count": 15,
   "metadata": {
    "scrolled": true
   },
   "outputs": [
    {
     "data": {
      "text/plain": [
       "[('test', 127045),\n",
       " ('status', 64366),\n",
       " ('provided', 52547),\n",
       " ('answer', 52114),\n",
       " ('cpe', 43012),\n",
       " ('result', 38702),\n",
       " ('type', 36609),\n",
       " ('power', 33976),\n",
       " ('anom', 31928),\n",
       " ('behaviour', 28901),\n",
       " ('removed', 26498),\n",
       " ('loopback', 25700),\n",
       " ('led', 25582),\n",
       " ('fault', 23301),\n",
       " ('id', 22825),\n",
       " ('odu', 21284),\n",
       " ('yes', 21063),\n",
       " ('ntd', 20635),\n",
       " ('green', 17291),\n",
       " ('nbn', 17057),\n",
       " ('modem', 16788),\n",
       " ('uni', 16363),\n",
       " ('ip', 15796),\n",
       " ('2019', 15294),\n",
       " ('red', 14865),\n",
       " ('tested', 14321),\n",
       " ('light', 13978),\n",
       " ('mac', 13882),\n",
       " ('alternate', 13763),\n",
       " ('isolation', 12900),\n",
       " ('run', 12555),\n",
       " ('signal', 12514),\n",
       " ('solid', 12049),\n",
       " ('powercycled', 11918),\n",
       " ('failed', 11774),\n",
       " ('time', 11660),\n",
       " ('address', 10945),\n",
       " ('connection', 10824),\n",
       " ('active', 10580),\n",
       " ('number', 10218),\n",
       " ('incidents', 10119),\n",
       " ('connected', 10054),\n",
       " ('none', 9918),\n",
       " ('service', 9904),\n",
       " ('orders', 9847),\n",
       " ('open', 9823),\n",
       " ('results', 9801),\n",
       " ('serial', 9443),\n",
       " ('fail', 9212),\n",
       " ('issue', 8859)]"
      ]
     },
     "execution_count": 15,
     "metadata": {},
     "output_type": "execute_result"
    }
   ],
   "source": [
    "token_count_di = Counter(tokenized_corpus)\n",
    "token_count_di.most_common(50)"
   ]
  },
  {
   "cell_type": "code",
   "execution_count": 16,
   "metadata": {},
   "outputs": [
    {
     "data": {
      "image/png": "[encoded data removed]",
      "text/plain": [
       "<Figure size 576x576 with 1 Axes>"
      ]
     },
     "metadata": {
      "needs_background": "light"
     },
     "output_type": "display_data"
    }
   ],
   "source": [
    "frequencies = [b for (a,b) in token_count_di.most_common(10000)]\n",
    "\n",
    "tokens = [a for (a,b) in token_count_di.most_common(10000)]\n",
    "\n",
    "ranks = range(1, len(frequencies)+1)\n",
    "\n",
    "plt.figure(figsize=(8,8))\n",
    "\n",
    "plt.ylim(1,10**4)\n",
    "\n",
    "plt.xlim(1,10**4)\n",
    "\n",
    "#Actual ranks and frequencies\n",
    "\n",
    "obtained_line, = loglog(ranks, frequencies, marker=\".\", label=\"Line obtained from the Text Corpus\")\n",
    "\n",
    "obtained_legend = plt.legend(handles=[obtained_line], loc=1)\n",
    "\n",
    "ax = plt.gca().add_artist(obtained_legend)\n",
    "\n",
    "#Expected ranks and frequencies as per Zipf's law\n",
    "\n",
    "expected_line, = plt.plot([1,frequencies[0]],[frequencies[0],1],color='r',label=\"Line expected as per Zipf's Law\")\n",
    "\n",
    "plt.legend(handles=[expected_line], loc=4)\n",
    "\n",
    "title(\"Plot stating Zipf law's in log-log scale\")\n",
    "\n",
    "xlabel(\"Rank of token in descending order of frequency of occurrence\")\n",
    "\n",
    "ylabel(\"Frequency of ocurrence of token\")\n",
    "\n",
    "grid(True)"
   ]
  },
  {
   "cell_type": "markdown",
   "metadata": {},
   "source": [
    "## TF-IDF"
   ]
  },
  {
   "cell_type": "code",
   "execution_count": 10,
   "metadata": {},
   "outputs": [],
   "source": [
    "import pandas as pd\n",
    "from sklearn.feature_extraction.text import TfidfVectorizer\n",
    "import re"
   ]
  },
  {
   "cell_type": "code",
   "execution_count": 11,
   "metadata": {},
   "outputs": [
    {
     "ename": "AttributeError",
     "evalue": "'str' object has no attribute 'sub'",
     "output_type": "error",
     "traceback": [
      "\u001b[1;31m---------------------------------------------------------------------------\u001b[0m",
      "\u001b[1;31mAttributeError\u001b[0m                            Traceback (most recent call last)",
      "\u001b[1;32m<ipython-input-11-285896bfc705>\u001b[0m in \u001b[0;36m<module>\u001b[1;34m\u001b[0m\n\u001b[0;32m      1\u001b[0m \u001b[0mdf\u001b[0m \u001b[1;33m=\u001b[0m \u001b[0mpd\u001b[0m\u001b[1;33m.\u001b[0m\u001b[0mread_csv\u001b[0m\u001b[1;33m(\u001b[0m\u001b[1;34m'UTS_TT_DATA.csv'\u001b[0m\u001b[1;33m)\u001b[0m\u001b[1;33m\u001b[0m\u001b[1;33m\u001b[0m\u001b[0m\n\u001b[1;32m----> 2\u001b[1;33m \u001b[0mdf\u001b[0m\u001b[1;33m[\u001b[0m\u001b[1;34m'description'\u001b[0m\u001b[1;33m]\u001b[0m\u001b[1;33m[\u001b[0m\u001b[1;36m1\u001b[0m\u001b[1;33m]\u001b[0m\u001b[1;33m.\u001b[0m\u001b[0msub\u001b[0m\u001b[1;33m(\u001b[0m\u001b[1;34m'\\n | \\r'\u001b[0m\u001b[1;33m,\u001b[0m\u001b[1;34m''\u001b[0m\u001b[1;33m)\u001b[0m\u001b[1;33m\u001b[0m\u001b[1;33m\u001b[0m\u001b[0m\n\u001b[0m",
      "\u001b[1;31mAttributeError\u001b[0m: 'str' object has no attribute 'sub'"
     ]
    }
   ],
   "source": [
    "corpus = [\n",
    "'Data Science is an overlap between Arts and Science',\n",
    "'Generally, Arts graduates are right-brained and Science graduates are left-brained',\n",
    "'Excelling in both Arts and Science at a time becomes difficult',\n",
    "'Natural Language Processing is a part of Data Science'\n",
    "]"
   ]
  },
  {
   "cell_type": "code",
   "execution_count": 21,
   "metadata": {},
   "outputs": [
    {
     "name": "stdout",
     "output_type": "stream",
     "text": [
      "[[0.40332811 0.25743911 0.         0.25743911 0.         0.\n",
      "  0.40332811 0.         0.         0.31798852 0.         0.\n",
      "  0.         0.         0.         0.31798852 0.         0.\n",
      "  0.         0.         0.40332811 0.         0.         0.\n",
      "  0.42094668 0.        ]\n",
      " [0.         0.159139   0.49864399 0.159139   0.         0.\n",
      "  0.         0.         0.49864399 0.         0.         0.\n",
      "  0.24932199 0.49864399 0.         0.         0.         0.24932199\n",
      "  0.         0.         0.         0.         0.         0.24932199\n",
      "  0.13010656 0.        ]\n",
      " [0.         0.22444946 0.         0.22444946 0.35164346 0.35164346\n",
      "  0.         0.35164346 0.         0.         0.35164346 0.35164346\n",
      "  0.         0.         0.35164346 0.         0.         0.\n",
      "  0.         0.         0.         0.         0.         0.\n",
      "  0.18350214 0.35164346]\n",
      " [0.         0.         0.         0.         0.         0.\n",
      "  0.         0.         0.         0.30887228 0.         0.\n",
      "  0.         0.         0.         0.30887228 0.39176533 0.\n",
      "  0.39176533 0.39176533 0.         0.39176533 0.39176533 0.\n",
      "  0.2044394  0.        ]]\n"
     ]
    }
   ],
   "source": [
    "tfidf_model = TfidfVectorizer()\n",
    "print(tfidf_model.fit_transform(corpus).todense())"
   ]
  },
  {
   "cell_type": "code",
   "execution_count": 22,
   "metadata": {},
   "outputs": [
    {
     "data": {
      "text/html": [
       "<div>\n",
       "<style scoped>\n",
       "    .dataframe tbody tr th:only-of-type {\n",
       "        vertical-align: middle;\n",
       "    }\n",
       "\n",
       "    .dataframe tbody tr th {\n",
       "        vertical-align: top;\n",
       "    }\n",
       "\n",
       "    .dataframe thead th {\n",
       "        text-align: right;\n",
       "    }\n",
       "</style>\n",
       "<table border=\"1\" class=\"dataframe\">\n",
       "  <thead>\n",
       "    <tr style=\"text-align: right;\">\n",
       "      <th></th>\n",
       "      <th>an</th>\n",
       "      <th>and</th>\n",
       "      <th>are</th>\n",
       "      <th>arts</th>\n",
       "      <th>at</th>\n",
       "      <th>becomes</th>\n",
       "      <th>between</th>\n",
       "      <th>both</th>\n",
       "      <th>brained</th>\n",
       "      <th>data</th>\n",
       "      <th>...</th>\n",
       "      <th>language</th>\n",
       "      <th>left</th>\n",
       "      <th>natural</th>\n",
       "      <th>of</th>\n",
       "      <th>overlap</th>\n",
       "      <th>part</th>\n",
       "      <th>processing</th>\n",
       "      <th>right</th>\n",
       "      <th>science</th>\n",
       "      <th>time</th>\n",
       "    </tr>\n",
       "  </thead>\n",
       "  <tbody>\n",
       "    <tr>\n",
       "      <th>0</th>\n",
       "      <td>0.403328</td>\n",
       "      <td>0.257439</td>\n",
       "      <td>0.000000</td>\n",
       "      <td>0.257439</td>\n",
       "      <td>0.000000</td>\n",
       "      <td>0.000000</td>\n",
       "      <td>0.403328</td>\n",
       "      <td>0.000000</td>\n",
       "      <td>0.000000</td>\n",
       "      <td>0.317989</td>\n",
       "      <td>...</td>\n",
       "      <td>0.000000</td>\n",
       "      <td>0.000000</td>\n",
       "      <td>0.000000</td>\n",
       "      <td>0.000000</td>\n",
       "      <td>0.403328</td>\n",
       "      <td>0.000000</td>\n",
       "      <td>0.000000</td>\n",
       "      <td>0.000000</td>\n",
       "      <td>0.420947</td>\n",
       "      <td>0.000000</td>\n",
       "    </tr>\n",
       "    <tr>\n",
       "      <th>1</th>\n",
       "      <td>0.000000</td>\n",
       "      <td>0.159139</td>\n",
       "      <td>0.498644</td>\n",
       "      <td>0.159139</td>\n",
       "      <td>0.000000</td>\n",
       "      <td>0.000000</td>\n",
       "      <td>0.000000</td>\n",
       "      <td>0.000000</td>\n",
       "      <td>0.498644</td>\n",
       "      <td>0.000000</td>\n",
       "      <td>...</td>\n",
       "      <td>0.000000</td>\n",
       "      <td>0.249322</td>\n",
       "      <td>0.000000</td>\n",
       "      <td>0.000000</td>\n",
       "      <td>0.000000</td>\n",
       "      <td>0.000000</td>\n",
       "      <td>0.000000</td>\n",
       "      <td>0.249322</td>\n",
       "      <td>0.130107</td>\n",
       "      <td>0.000000</td>\n",
       "    </tr>\n",
       "    <tr>\n",
       "      <th>2</th>\n",
       "      <td>0.000000</td>\n",
       "      <td>0.224449</td>\n",
       "      <td>0.000000</td>\n",
       "      <td>0.224449</td>\n",
       "      <td>0.351643</td>\n",
       "      <td>0.351643</td>\n",
       "      <td>0.000000</td>\n",
       "      <td>0.351643</td>\n",
       "      <td>0.000000</td>\n",
       "      <td>0.000000</td>\n",
       "      <td>...</td>\n",
       "      <td>0.000000</td>\n",
       "      <td>0.000000</td>\n",
       "      <td>0.000000</td>\n",
       "      <td>0.000000</td>\n",
       "      <td>0.000000</td>\n",
       "      <td>0.000000</td>\n",
       "      <td>0.000000</td>\n",
       "      <td>0.000000</td>\n",
       "      <td>0.183502</td>\n",
       "      <td>0.351643</td>\n",
       "    </tr>\n",
       "    <tr>\n",
       "      <th>3</th>\n",
       "      <td>0.000000</td>\n",
       "      <td>0.000000</td>\n",
       "      <td>0.000000</td>\n",
       "      <td>0.000000</td>\n",
       "      <td>0.000000</td>\n",
       "      <td>0.000000</td>\n",
       "      <td>0.000000</td>\n",
       "      <td>0.000000</td>\n",
       "      <td>0.000000</td>\n",
       "      <td>0.308872</td>\n",
       "      <td>...</td>\n",
       "      <td>0.391765</td>\n",
       "      <td>0.000000</td>\n",
       "      <td>0.391765</td>\n",
       "      <td>0.391765</td>\n",
       "      <td>0.000000</td>\n",
       "      <td>0.391765</td>\n",
       "      <td>0.391765</td>\n",
       "      <td>0.000000</td>\n",
       "      <td>0.204439</td>\n",
       "      <td>0.000000</td>\n",
       "    </tr>\n",
       "  </tbody>\n",
       "</table>\n",
       "<p>4 rows × 26 columns</p>\n",
       "</div>"
      ],
      "text/plain": [
       "         an       and       are      arts        at   becomes   between  \\\n",
       "0  0.403328  0.257439  0.000000  0.257439  0.000000  0.000000  0.403328   \n",
       "1  0.000000  0.159139  0.498644  0.159139  0.000000  0.000000  0.000000   \n",
       "2  0.000000  0.224449  0.000000  0.224449  0.351643  0.351643  0.000000   \n",
       "3  0.000000  0.000000  0.000000  0.000000  0.000000  0.000000  0.000000   \n",
       "\n",
       "       both   brained      data  ...  language      left   natural        of  \\\n",
       "0  0.000000  0.000000  0.317989  ...  0.000000  0.000000  0.000000  0.000000   \n",
       "1  0.000000  0.498644  0.000000  ...  0.000000  0.249322  0.000000  0.000000   \n",
       "2  0.351643  0.000000  0.000000  ...  0.000000  0.000000  0.000000  0.000000   \n",
       "3  0.000000  0.000000  0.308872  ...  0.391765  0.000000  0.391765  0.391765   \n",
       "\n",
       "    overlap      part  processing     right   science      time  \n",
       "0  0.403328  0.000000    0.000000  0.000000  0.420947  0.000000  \n",
       "1  0.000000  0.000000    0.000000  0.249322  0.130107  0.000000  \n",
       "2  0.000000  0.000000    0.000000  0.000000  0.183502  0.351643  \n",
       "3  0.000000  0.391765    0.391765  0.000000  0.204439  0.000000  \n",
       "\n",
       "[4 rows x 26 columns]"
      ]
     },
     "execution_count": 22,
     "metadata": {},
     "output_type": "execute_result"
    }
   ],
   "source": [
    "tfidf_df = pd.DataFrame(tfidf_model.fit_transform(corpus).todense())\n",
    "\n",
    "tfidf_df.columns = sorted(tfidf_model.vocabulary_)\n",
    "\n",
    "tfidf_df.head()"
   ]
  },
  {
   "cell_type": "code",
   "execution_count": 23,
   "metadata": {},
   "outputs": [
    {
     "data": {
      "text/html": [
       "<div>\n",
       "<style scoped>\n",
       "    .dataframe tbody tr th:only-of-type {\n",
       "        vertical-align: middle;\n",
       "    }\n",
       "\n",
       "    .dataframe tbody tr th {\n",
       "        vertical-align: top;\n",
       "    }\n",
       "\n",
       "    .dataframe thead th {\n",
       "        text-align: right;\n",
       "    }\n",
       "</style>\n",
       "<table border=\"1\" class=\"dataframe\">\n",
       "  <thead>\n",
       "    <tr style=\"text-align: right;\">\n",
       "      <th></th>\n",
       "      <th>an</th>\n",
       "      <th>and</th>\n",
       "      <th>are</th>\n",
       "      <th>arts</th>\n",
       "      <th>brained</th>\n",
       "      <th>data</th>\n",
       "      <th>graduates</th>\n",
       "      <th>is</th>\n",
       "      <th>right</th>\n",
       "      <th>science</th>\n",
       "    </tr>\n",
       "  </thead>\n",
       "  <tbody>\n",
       "    <tr>\n",
       "      <th>0</th>\n",
       "      <td>0.491042</td>\n",
       "      <td>0.313426</td>\n",
       "      <td>0.000000</td>\n",
       "      <td>0.313426</td>\n",
       "      <td>0.000000</td>\n",
       "      <td>0.387143</td>\n",
       "      <td>0.000000</td>\n",
       "      <td>0.387143</td>\n",
       "      <td>0.000000</td>\n",
       "      <td>0.512492</td>\n",
       "    </tr>\n",
       "    <tr>\n",
       "      <th>1</th>\n",
       "      <td>0.000000</td>\n",
       "      <td>0.170061</td>\n",
       "      <td>0.532867</td>\n",
       "      <td>0.170061</td>\n",
       "      <td>0.532867</td>\n",
       "      <td>0.000000</td>\n",
       "      <td>0.532867</td>\n",
       "      <td>0.000000</td>\n",
       "      <td>0.266433</td>\n",
       "      <td>0.139036</td>\n",
       "    </tr>\n",
       "    <tr>\n",
       "      <th>2</th>\n",
       "      <td>0.000000</td>\n",
       "      <td>0.612172</td>\n",
       "      <td>0.000000</td>\n",
       "      <td>0.612172</td>\n",
       "      <td>0.000000</td>\n",
       "      <td>0.000000</td>\n",
       "      <td>0.000000</td>\n",
       "      <td>0.000000</td>\n",
       "      <td>0.000000</td>\n",
       "      <td>0.500491</td>\n",
       "    </tr>\n",
       "    <tr>\n",
       "      <th>3</th>\n",
       "      <td>0.000000</td>\n",
       "      <td>0.000000</td>\n",
       "      <td>0.000000</td>\n",
       "      <td>0.000000</td>\n",
       "      <td>0.000000</td>\n",
       "      <td>0.640434</td>\n",
       "      <td>0.000000</td>\n",
       "      <td>0.640434</td>\n",
       "      <td>0.000000</td>\n",
       "      <td>0.423897</td>\n",
       "    </tr>\n",
       "  </tbody>\n",
       "</table>\n",
       "</div>"
      ],
      "text/plain": [
       "         an       and       are      arts   brained      data  graduates  \\\n",
       "0  0.491042  0.313426  0.000000  0.313426  0.000000  0.387143   0.000000   \n",
       "1  0.000000  0.170061  0.532867  0.170061  0.532867  0.000000   0.532867   \n",
       "2  0.000000  0.612172  0.000000  0.612172  0.000000  0.000000   0.000000   \n",
       "3  0.000000  0.000000  0.000000  0.000000  0.000000  0.640434   0.000000   \n",
       "\n",
       "         is     right   science  \n",
       "0  0.387143  0.000000  0.512492  \n",
       "1  0.000000  0.266433  0.139036  \n",
       "2  0.000000  0.000000  0.500491  \n",
       "3  0.640434  0.000000  0.423897  "
      ]
     },
     "execution_count": 23,
     "metadata": {},
     "output_type": "execute_result"
    }
   ],
   "source": [
    "tfidf_model_small = TfidfVectorizer(max_features=10)\n",
    "\n",
    "tfidf_df_small = pd.DataFrame(tfidf_model_small.fit_transform(corpus).todense())\n",
    "\n",
    "tfidf_df_small.columns = sorted(tfidf_model_small.vocabulary_)\n",
    "\n",
    "tfidf_df_small.head()"
   ]
  },
  {
   "cell_type": "markdown",
   "metadata": {},
   "source": [
    "## 文本相似"
   ]
  },
  {
   "cell_type": "code",
   "execution_count": 24,
   "metadata": {},
   "outputs": [],
   "source": [
    "from nltk import word_tokenize\n",
    "\n",
    "from nltk.stem import WordNetLemmatizer\n",
    "\n",
    "from sklearn.feature_extraction.text import TfidfVectorizer\n",
    "\n",
    "from sklearn.metrics.pairwise import cosine_similarity\n",
    "\n",
    "lemmatizer = WordNetLemmatizer()"
   ]
  },
  {
   "cell_type": "code",
   "execution_count": 25,
   "metadata": {},
   "outputs": [],
   "source": [
    "pair1 = [\"What you do defines you\",\"Your deeds define you\"]\n",
    "\n",
    "pair2 = [\"Once upon a time there lived a king.\", \"Who is your queen?\"]\n",
    "\n",
    "pair3 = [\"He is desperate\", \"Is he not desperate?\"]"
   ]
  },
  {
   "cell_type": "code",
   "execution_count": 26,
   "metadata": {},
   "outputs": [],
   "source": [
    "def extract_text_similarity_jaccard (text1, text2):\n",
    "    words_text1 = [lemmatizer.lemmatize(word.lower()) for word in word_tokenize(text1)]\n",
    "    words_text2 = [lemmatizer.lemmatize(word.lower()) for word in word_tokenize(text2)]\n",
    "    nr = len(set(words_text1).intersection(set(words_text2)))\n",
    "    dr = len(set(words_text1).union(set(words_text2)))\n",
    "    jaccard_sim = nr/dr\n",
    "    return jaccard_sim"
   ]
  },
  {
   "cell_type": "code",
   "execution_count": 27,
   "metadata": {},
   "outputs": [
    {
     "data": {
      "text/plain": [
       "0.14285714285714285"
      ]
     },
     "execution_count": 27,
     "metadata": {},
     "output_type": "execute_result"
    }
   ],
   "source": [
    "extract_text_similarity_jaccard(pair1[0],pair1[1])"
   ]
  },
  {
   "cell_type": "code",
   "execution_count": 28,
   "metadata": {},
   "outputs": [
    {
     "data": {
      "text/plain": [
       "0.0"
      ]
     },
     "execution_count": 28,
     "metadata": {},
     "output_type": "execute_result"
    }
   ],
   "source": [
    "extract_text_similarity_jaccard(pair2[0],pair2[1])"
   ]
  },
  {
   "cell_type": "code",
   "execution_count": 37,
   "metadata": {},
   "outputs": [
    {
     "data": {
      "text/plain": [
       "0.14285714285714285"
      ]
     },
     "execution_count": 37,
     "metadata": {},
     "output_type": "execute_result"
    }
   ],
   "source": [
    "1/7"
   ]
  },
  {
   "cell_type": "code",
   "execution_count": 33,
   "metadata": {},
   "outputs": [],
   "source": [
    "words_text1 = [lemmatizer.lemmatize(word.lower()) for word in word_tokenize(pair1[0])]\n",
    "words_text2 = [lemmatizer.lemmatize(word.lower()) for word in word_tokenize(pair1[1])]"
   ]
  },
  {
   "cell_type": "code",
   "execution_count": 35,
   "metadata": {},
   "outputs": [
    {
     "data": {
      "text/plain": [
       "1"
      ]
     },
     "execution_count": 35,
     "metadata": {},
     "output_type": "execute_result"
    }
   ],
   "source": [
    "words_text1\n",
    "\n",
    "len(set(words_text1).intersection(set(words_text2)))"
   ]
  },
  {
   "cell_type": "code",
   "execution_count": 34,
   "metadata": {},
   "outputs": [
    {
     "data": {
      "text/plain": [
       "['your', 'deed', 'define', 'you']"
      ]
     },
     "execution_count": 34,
     "metadata": {},
     "output_type": "execute_result"
    }
   ],
   "source": [
    "words_text2"
   ]
  },
  {
   "cell_type": "code",
   "execution_count": 22,
   "metadata": {},
   "outputs": [
    {
     "data": {
      "text/plain": [
       "'EU is reporting slow internet connection.\\r\\nProvisioning between NBN and Optus has been checked and no issues found.\\r\\nOptus systems are showing no sync.\\r\\nEU has reported visible no damage to NBN equipment.\\r\\nEU has replaced Ethernet cable between WNTD and RG.\\r\\nEU has tested using an Ethernet device connected directly to the WNTD and experienced fault.\\r\\n\\r\\nPlease investigate.\\r\\n\\r\\nOpen orders - none\\r\\n\\r\\nFault Type - Intermittent service/dropouts\\r\\n\\r\\n##DIAGNOSTIC QUESTIONS##\\r\\nHas an isolation test been run? - Yes\\r\\nAny active incidents at time of fault? - No\\r\\nPower Status - Answer not provided\\r\\nPower Behaviour - Answer not provided\\r\\nLED Status - Answer not provided\\r\\nLED Behaviour - Answer not provided\\r\\nODU Status - Answer not provided\\r\\nODU Behaviour - Answer not provided\\r\\nUNI-D Status - Answer not provided\\r\\nUNI-D Behaviour - Answer not provided\\r\\nSignal Strengths Status - Answer not provided\\r\\nPorts being used - Answer not provided\\r\\nNTD Serial Number - Answer not provided\\r\\nWhat CPE Is Connected? - Answer not provided\\r\\nWhat is the CPE MAC address? - Answer not provided\\r\\nHas the CPE been powercycled? - Answer not provided\\r\\nHas an alternate CPE been tested? - Answer not provided\\r\\n\\r\\n##TEST RESULTS##\\r\\n#TEST RESULT# :1\\r\\nTest ID - ANOM_ID57221\\r\\nTest Type - Loopback test\\r\\nTest Result - Passed'"
      ]
     },
     "execution_count": 22,
     "metadata": {},
     "output_type": "execute_result"
    }
   ],
   "source": [
    "a = df['description'][1]\n",
    "a"
   ]
  },
  {
   "cell_type": "code",
   "execution_count": 49,
   "metadata": {
    "scrolled": true
   },
   "outputs": [
    {
     "data": {
      "text/plain": [
       "'ISSUE:  Red ODU\\r\\n\\r\\nService Address:|Address Removed|\\r\\nContact Number:|Phone# Removed|\\r\\n\\r\\nService Location ID: ANOM_ID47460\\r\\nService Bandwidth/Traffic (Plan Speed): FWPlus\\r\\nS Tag: \\r\\nc Tag: 3508\\r\\n\\r\\nAssigned Port/ UNID: 1\\r\\nUNID ON or OFF?: ON\\r\\nNTD SERIAL NUMBER\\r\\n\\r\\nAdditional note: (TS)\\r\\nrestart nbn fixed wireless box\\r\\nstill getting red odu\\r\\n\\r\\nOpen orders - none\\r\\n\\r\\nFault Type - No data connection/red optical\\r\\n\\r\\n##DIAGNOSTIC QUESTIONS##\\r\\nPower Status - Green\\r\\nLED Status - Amber\\r\\nODU Status - Red\\r\\nUNI-D Status - Amber\\r\\nSignal Strengths Status - Red\\r\\nPorts being used - D1\\r\\nWhat CPE Is Connected? - Huawei HG659\\r\\nWhat is the CPE MAC address? - 5CA86A1353DA\\r\\nHas the CPE been powercycled? - Yes\\r\\nHas an alternate CPE been tested? - No\\r\\nHas an isolation test been run? - Yes\\r\\nAny active incidents at time of fault? - Yes\\r\\nPower Behaviour - Answer not provided\\r\\nLED Behaviour - Answer not provided\\r\\nODU Behaviour - Answer not provided\\r\\nUNI-D Behaviour - Answer not provided\\r\\nNTD Serial Number - Answer not provided\\r\\n\\r\\n##TEST RESULTS##\\r\\n#TEST RESULT# :1\\r\\nTest ID - ANOM_ID5685\\r\\nTest Type - Loopback test\\r\\nTest Result - Failed\\r\\n\\r\\n#TEST RESULT# :2\\r\\nTest ID - ANOM_ID27920\\r\\nTest Type - Loopback test\\r\\nTest Result - Failed\\r\\n\\r\\n#TEST RESULT# :3\\r\\nTest ID - ANOM_ID2100\\r\\nTest Type - Loopback test\\r\\nTest Result - Failed'"
      ]
     },
     "execution_count": 49,
     "metadata": {},
     "output_type": "execute_result"
    }
   ],
   "source": [
    "b = df['description'][2]\n",
    "b"
   ]
  },
  {
   "cell_type": "code",
   "execution_count": 52,
   "metadata": {},
   "outputs": [],
   "source": [
    "x1 = re.compile(\"\\n|\\r\")\n",
    "y1 = x1.split(b)\n",
    "for i in y1:\n",
    "    if i == '':\n",
    "        y1.remove(i)"
   ]
  },
  {
   "cell_type": "code",
   "execution_count": 55,
   "metadata": {},
   "outputs": [
    {
     "data": {
      "text/plain": [
       "['ISSUE:  Red ODU',\n",
       " 'Service Address:|Address Removed|',\n",
       " 'Contact Number:|Phone# Removed|',\n",
       " 'Service Location ID: ANOM_ID47460',\n",
       " 'Service Bandwidth/Traffic (Plan Speed): FWPlus',\n",
       " 'S Tag: ',\n",
       " 'c Tag: 3508',\n",
       " 'Assigned Port/ UNID: 1',\n",
       " 'UNID ON or OFF?: ON',\n",
       " 'NTD SERIAL NUMBER',\n",
       " 'Additional note: (TS)',\n",
       " 'restart nbn fixed wireless box',\n",
       " 'still getting red odu',\n",
       " 'Open orders - none',\n",
       " 'Fault Type - No data connection/red optical',\n",
       " '##DIAGNOSTIC QUESTIONS##',\n",
       " 'Power Status - Green',\n",
       " 'LED Status - Amber',\n",
       " 'ODU Status - Red',\n",
       " 'UNI-D Status - Amber',\n",
       " 'Signal Strengths Status - Red',\n",
       " 'Ports being used - D1',\n",
       " 'What CPE Is Connected? - Huawei HG659',\n",
       " 'What is the CPE MAC address? - 5CA86A1353DA',\n",
       " 'Has the CPE been powercycled? - Yes',\n",
       " 'Has an alternate CPE been tested? - No',\n",
       " 'Has an isolation test been run? - Yes',\n",
       " 'Any active incidents at time of fault? - Yes',\n",
       " 'Power Behaviour - Answer not provided',\n",
       " 'LED Behaviour - Answer not provided',\n",
       " 'ODU Behaviour - Answer not provided',\n",
       " 'UNI-D Behaviour - Answer not provided',\n",
       " 'NTD Serial Number - Answer not provided',\n",
       " '##TEST RESULTS##',\n",
       " '#TEST RESULT# :1',\n",
       " 'Test ID - ANOM_ID5685',\n",
       " 'Test Type - Loopback test',\n",
       " 'Test Result - Failed',\n",
       " '#TEST RESULT# :2',\n",
       " 'Test ID - ANOM_ID27920',\n",
       " 'Test Type - Loopback test',\n",
       " 'Test Result - Failed',\n",
       " '#TEST RESULT# :3',\n",
       " 'Test ID - ANOM_ID2100',\n",
       " 'Test Type - Loopback test',\n",
       " 'Test Result - Failed']"
      ]
     },
     "execution_count": 55,
     "metadata": {},
     "output_type": "execute_result"
    }
   ],
   "source": [
    "for i in y1:\n",
    "    if i == '':\n",
    "        y1.remove(i)\n",
    "y1"
   ]
  },
  {
   "cell_type": "code",
   "execution_count": 43,
   "metadata": {},
   "outputs": [],
   "source": [
    "x = re.compile(\"\\n|\\r\")\n",
    "y = x.split(a)\n",
    "for i in y:\n",
    "    if i == '':\n",
    "        y.remove(i)"
   ]
  },
  {
   "cell_type": "code",
   "execution_count": 57,
   "metadata": {},
   "outputs": [],
   "source": [
    "for i in y:\n",
    "    if i == '':\n",
    "        y.remove(i)"
   ]
  },
  {
   "cell_type": "code",
   "execution_count": 48,
   "metadata": {},
   "outputs": [
    {
     "data": {
      "text/plain": [
       "['EU is reporting slow internet connection.',\n",
       " 'Provisioning between NBN and Optus has been checked and no issues found.',\n",
       " 'Optus systems are showing no sync.',\n",
       " 'EU has reported visible no damage to NBN equipment.',\n",
       " 'EU has replaced Ethernet cable between WNTD and RG.',\n",
       " 'EU has tested using an Ethernet device connected directly to the WNTD and experienced fault.',\n",
       " 'Please investigate.',\n",
       " 'Open orders - none',\n",
       " 'Fault Type - Intermittent service/dropouts',\n",
       " '##DIAGNOSTIC QUESTIONS##',\n",
       " 'Has an isolation test been run? - Yes',\n",
       " 'Any active incidents at time of fault? - No',\n",
       " 'Power Status - Answer not provided',\n",
       " 'Power Behaviour - Answer not provided',\n",
       " 'LED Status - Answer not provided',\n",
       " 'LED Behaviour - Answer not provided',\n",
       " 'ODU Status - Answer not provided',\n",
       " 'ODU Behaviour - Answer not provided',\n",
       " 'UNI-D Status - Answer not provided',\n",
       " 'UNI-D Behaviour - Answer not provided',\n",
       " 'Signal Strengths Status - Answer not provided',\n",
       " 'Ports being used - Answer not provided',\n",
       " 'NTD Serial Number - Answer not provided',\n",
       " 'What CPE Is Connected? - Answer not provided',\n",
       " 'What is the CPE MAC address? - Answer not provided',\n",
       " 'Has the CPE been powercycled? - Answer not provided',\n",
       " 'Has an alternate CPE been tested? - Answer not provided',\n",
       " '##TEST RESULTS##',\n",
       " '#TEST RESULT# :1',\n",
       " 'Test ID - ANOM_ID57221',\n",
       " 'Test Type - Loopback test',\n",
       " 'Test Result - Passed']"
      ]
     },
     "execution_count": 48,
     "metadata": {},
     "output_type": "execute_result"
    }
   ],
   "source": [
    "y"
   ]
  },
  {
   "cell_type": "code",
   "execution_count": 58,
   "metadata": {},
   "outputs": [],
   "source": [
    "x = re.compile(\"\\n|\\r\")\n",
    "for list in df['description']:\n",
    "    y = x.split(list)\n",
    "    for i in list:\n",
    "        if i == '':\n",
    "            list.remove(i)"
   ]
  },
  {
   "cell_type": "code",
   "execution_count": null,
   "metadata": {},
   "outputs": [],
   "source": []
  },
  {
   "cell_type": "code",
   "execution_count": null,
   "metadata": {},
   "outputs": [],
   "source": []
  }
 ],
 "metadata": {
  "kernelspec": {
   "display_name": "Python 3",
   "language": "python",
   "name": "python3"
  },
  "language_info": {
   "codemirror_mode": {
    "name": "ipython",
    "version": 3
   },
   "file_extension": ".py",
   "mimetype": "text/x-python",
   "name": "python",
   "nbconvert_exporter": "python",
   "pygments_lexer": "ipython3",
   "version": "3.7.4"
  }
 },
 "nbformat": 4,
 "nbformat_minor": 4
}
